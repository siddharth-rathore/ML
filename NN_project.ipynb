{
  "cells": [
    {
      "cell_type": "markdown",
      "id": "b302468e-798d-42e9-9cfb-1046d7f666a2",
      "metadata": {
        "id": "b302468e-798d-42e9-9cfb-1046d7f666a2"
      },
      "source": [
        "<center><p float=\"center\">\n",
        "  <img src=\"https://upload.wikimedia.org/wikipedia/commons/e/e9/4_RGB_McCombs_School_Brand_Branded.png\" width=\"300\" height=\"100\"/>\n",
        "  <img src=\"https://mma.prnewswire.com/media/1458111/Great_Learning_Logo.jpg?p=facebook\" width=\"200\" height=\"100\"/>\n",
        "</p></center>\n",
        "\n",
        "<center><font size=10><b>Neural Networks Project</b></font></center>"
      ]
    },
    {
      "cell_type": "markdown",
      "id": "ce37f929-e970-4ee7-8f23-5edb977f574a",
      "metadata": {
        "id": "ce37f929-e970-4ee7-8f23-5edb977f574a"
      },
      "source": [
        "<center><font size=6><b>PART A</b></font></center>"
      ]
    },
    {
      "cell_type": "markdown",
      "id": "39f2c5f8-1466-46fc-b63e-07fa3c2a3a78",
      "metadata": {
        "id": "39f2c5f8-1466-46fc-b63e-07fa3c2a3a78"
      },
      "source": [
        "### **Business Context**"
      ]
    },
    {
      "cell_type": "markdown",
      "id": "2bbc52c6-c085-429c-b8d6-d037b7ded54e",
      "metadata": {
        "id": "2bbc52c6-c085-429c-b8d6-d037b7ded54e"
      },
      "source": [
        "![image.png](attachment:c001ca89-6336-4fed-b897-3becd4914101.png)"
      ]
    },
    {
      "cell_type": "markdown",
      "source": [],
      "metadata": {
        "id": "P85-DvqedQTm"
      },
      "id": "P85-DvqedQTm"
    },
    {
      "cell_type": "markdown",
      "source": [],
      "metadata": {
        "id": "fdTT9_3odQPd"
      },
      "id": "fdTT9_3odQPd"
    },
    {
      "cell_type": "markdown",
      "id": "8a1c5360-23cb-47ab-8775-cb845834b767",
      "metadata": {
        "id": "8a1c5360-23cb-47ab-8775-cb845834b767"
      },
      "source": [
        "### **Objective**"
      ]
    },
    {
      "cell_type": "markdown",
      "id": "35f76f12-8408-4b7b-86d8-f6698adbd9ac",
      "metadata": {
        "id": "35f76f12-8408-4b7b-86d8-f6698adbd9ac"
      },
      "source": [
        "![image.png](attachment:6709ba39-ba45-4abe-9f9e-074db0ed5aa0.png)"
      ]
    },
    {
      "cell_type": "markdown",
      "id": "53b00e65-91c0-4cfa-81e4-d2001f656b6e",
      "metadata": {
        "id": "53b00e65-91c0-4cfa-81e4-d2001f656b6e"
      },
      "source": [
        "### **Data Dictionary**"
      ]
    },
    {
      "cell_type": "markdown",
      "id": "88854221-8def-478f-b1d2-8a0407a7b016",
      "metadata": {
        "id": "88854221-8def-478f-b1d2-8a0407a7b016"
      },
      "source": [
        "![image.png](attachment:ef05c8a1-030d-45e4-8299-98c91147aabd.png)"
      ]
    },
    {
      "cell_type": "markdown",
      "id": "75623f7e-8cba-4da4-89ad-720aae82cadd",
      "metadata": {
        "id": "75623f7e-8cba-4da4-89ad-720aae82cadd"
      },
      "source": [
        "<br><br>"
      ]
    },
    {
      "cell_type": "markdown",
      "id": "a9bf72c3-c605-4ee1-9601-5ffb4fc37cdb",
      "metadata": {
        "id": "a9bf72c3-c605-4ee1-9601-5ffb4fc37cdb"
      },
      "source": [
        "## Import the necessary libraries"
      ]
    },
    {
      "cell_type": "code",
      "execution_count": null,
      "id": "504a6c25-cc67-4aee-aef9-66649168efa9",
      "metadata": {
        "id": "504a6c25-cc67-4aee-aef9-66649168efa9"
      },
      "outputs": [],
      "source": [
        "# Libraries to help with reading and manipulating data\n",
        "import numpy as np\n",
        "import pandas as pd\n",
        "\n",
        "# Libraries to help with data visualization\n",
        "import matplotlib.pyplot as plt\n",
        "import seaborn as sns\n",
        "\n",
        "import tensorflow as tf\n",
        "from tensorflow.keras.models import Sequential\n",
        "from tensorflow.keras.layers import Dense, Dropout\n",
        "from sklearn.model_selection import train_test_split\n",
        "from sklearn import preprocessing\n",
        "from sklearn.preprocessing import StandardScaler, LabelEncoder\n",
        "from tensorflow.keras.utils import to_categorical\n",
        "\n",
        "# Suppressing the warnings.\n",
        "import warnings\n",
        "warnings.filterwarnings(\"ignore\")"
      ]
    },
    {
      "cell_type": "markdown",
      "id": "0f09c06e-2151-4558-b55e-72a22cc6692f",
      "metadata": {
        "id": "0f09c06e-2151-4558-b55e-72a22cc6692f"
      },
      "source": [
        "## Importing the dataset"
      ]
    },
    {
      "cell_type": "code",
      "execution_count": null,
      "id": "8db4e2db-34e3-4a4e-a23f-0050de923184",
      "metadata": {
        "id": "8db4e2db-34e3-4a4e-a23f-0050de923184"
      },
      "outputs": [],
      "source": [
        "data = pd.read_csv('NN Project Data - Signal.csv')"
      ]
    },
    {
      "cell_type": "markdown",
      "id": "da5980d3-eed0-494d-ad3f-69de7496aee7",
      "metadata": {
        "id": "da5980d3-eed0-494d-ad3f-69de7496aee7"
      },
      "source": [
        "<br>"
      ]
    },
    {
      "cell_type": "markdown",
      "id": "ff090677-83bc-4d84-853d-deddf8277f3b",
      "metadata": {
        "id": "ff090677-83bc-4d84-853d-deddf8277f3b"
      },
      "source": [
        "## Data Overview"
      ]
    },
    {
      "cell_type": "markdown",
      "id": "1aa4dac1-88d7-4e24-8e82-024a42b99c4c",
      "metadata": {
        "id": "1aa4dac1-88d7-4e24-8e82-024a42b99c4c"
      },
      "source": [
        "**View the first and last 5 rows of the dataset**"
      ]
    },
    {
      "cell_type": "code",
      "execution_count": null,
      "id": "54e26ea9-e3c4-457c-b8a6-d8f7b8a09990",
      "metadata": {
        "id": "54e26ea9-e3c4-457c-b8a6-d8f7b8a09990"
      },
      "outputs": [],
      "source": [
        "data.head()"
      ]
    },
    {
      "cell_type": "code",
      "execution_count": null,
      "id": "61b23be1-1c28-4275-8915-2fdc0cd35cc0",
      "metadata": {
        "id": "61b23be1-1c28-4275-8915-2fdc0cd35cc0"
      },
      "outputs": [],
      "source": [
        "data.tail()"
      ]
    },
    {
      "cell_type": "markdown",
      "id": "a2ce2f5c-089e-45c7-8ae4-6f48727940ca",
      "metadata": {
        "id": "a2ce2f5c-089e-45c7-8ae4-6f48727940ca"
      },
      "source": [
        "<br>"
      ]
    },
    {
      "cell_type": "markdown",
      "id": "9e8f9eb0-0fbf-4c0f-8d0b-9b2a350b4006",
      "metadata": {
        "id": "9e8f9eb0-0fbf-4c0f-8d0b-9b2a350b4006"
      },
      "source": [
        "**Understand the shape of the dataset**"
      ]
    },
    {
      "cell_type": "code",
      "execution_count": null,
      "id": "ce6872d1-4523-4764-b1f6-c1f2a4d99c3d",
      "metadata": {
        "id": "ce6872d1-4523-4764-b1f6-c1f2a4d99c3d"
      },
      "outputs": [],
      "source": [
        "# checking shape of the data\n",
        "print(\"There are\", data.shape[0], 'rows and', data.shape[1], \"columns.\")"
      ]
    },
    {
      "cell_type": "markdown",
      "id": "ebb10781-e305-4aca-8d9e-e4497194c9c8",
      "metadata": {
        "id": "ebb10781-e305-4aca-8d9e-e4497194c9c8"
      },
      "source": [
        "**Check the data types of the columns for the dataset**"
      ]
    },
    {
      "cell_type": "code",
      "execution_count": null,
      "id": "998fe377-8d8e-4a4d-9679-58374316bfcd",
      "metadata": {
        "id": "998fe377-8d8e-4a4d-9679-58374316bfcd"
      },
      "outputs": [],
      "source": [
        "data.info()"
      ]
    },
    {
      "cell_type": "markdown",
      "id": "5546e3b2-3beb-4798-9661-a40d1bbba98f",
      "metadata": {
        "id": "5546e3b2-3beb-4798-9661-a40d1bbba98f"
      },
      "source": [
        "<br>"
      ]
    },
    {
      "cell_type": "markdown",
      "id": "33df6dd1-85a9-4360-bc32-e2fbbba58184",
      "metadata": {
        "id": "33df6dd1-85a9-4360-bc32-e2fbbba58184"
      },
      "source": [
        "### Check for missing values"
      ]
    },
    {
      "cell_type": "markdown",
      "id": "f4ef177e-0153-4cbc-a533-c4fa9ff34588",
      "metadata": {
        "id": "f4ef177e-0153-4cbc-a533-c4fa9ff34588"
      },
      "source": [
        "**Check the null columns for the dataset**"
      ]
    },
    {
      "cell_type": "code",
      "execution_count": null,
      "id": "f08f2538-f31c-4220-a26d-23ad5fa3cc36",
      "metadata": {
        "id": "f08f2538-f31c-4220-a26d-23ad5fa3cc36"
      },
      "outputs": [],
      "source": [
        "missing_values = data.isnull().sum()\n",
        "missing_percentage = (missing_values / len(data)) * 100\n",
        "pd.DataFrame({'Missing_Values': missing_values, 'Missing_Percentage': missing_percentage})"
      ]
    },
    {
      "cell_type": "markdown",
      "id": "da586dca-0720-4597-b114-f45caf462d7b",
      "metadata": {
        "id": "da586dca-0720-4597-b114-f45caf462d7b"
      },
      "source": [
        "**Check the NA columns for the dataset**"
      ]
    },
    {
      "cell_type": "code",
      "execution_count": null,
      "id": "ae2c8373-e8c4-4105-abc0-5ffa567aac9c",
      "metadata": {
        "id": "ae2c8373-e8c4-4105-abc0-5ffa567aac9c"
      },
      "outputs": [],
      "source": [
        "missing_values = data.isna().sum()\n",
        "missing_percentage = (missing_values / len(data)) * 100\n",
        "pd.DataFrame({'Missing_Values': missing_values, 'Missing_Percentage': missing_percentage})"
      ]
    },
    {
      "cell_type": "markdown",
      "id": "6523f580-ad9d-4e8e-bbfe-69be3146f6b8",
      "metadata": {
        "id": "6523f580-ad9d-4e8e-bbfe-69be3146f6b8"
      },
      "source": [
        "**Check the duplicate data for the dataset**"
      ]
    },
    {
      "cell_type": "code",
      "execution_count": null,
      "id": "760e3014-3b15-4581-b10e-f1d823ef783e",
      "metadata": {
        "id": "760e3014-3b15-4581-b10e-f1d823ef783e"
      },
      "outputs": [],
      "source": [
        "data.duplicated().sum()"
      ]
    },
    {
      "cell_type": "code",
      "execution_count": null,
      "id": "aad7c8c0-c815-487f-b8e5-5d2203bf4a15",
      "metadata": {
        "id": "aad7c8c0-c815-487f-b8e5-5d2203bf4a15"
      },
      "outputs": [],
      "source": [
        "data[data.duplicated()]"
      ]
    },
    {
      "cell_type": "markdown",
      "id": "3c136b43-91c6-4d46-9262-8b431fb0a75e",
      "metadata": {
        "id": "3c136b43-91c6-4d46-9262-8b431fb0a75e"
      },
      "source": [
        "**Check the unique values for each parameter and signal strength**"
      ]
    },
    {
      "cell_type": "code",
      "execution_count": null,
      "id": "bbe9d132-90ac-4058-a13e-27aaf10f57f5",
      "metadata": {
        "id": "bbe9d132-90ac-4058-a13e-27aaf10f57f5"
      },
      "outputs": [],
      "source": [
        "for column in data.columns:\n",
        "    unique_values = data[column].unique()\n",
        "    print(f\"Unique values for {column}: {unique_values}\\n\")"
      ]
    },
    {
      "cell_type": "markdown",
      "id": "7b4a7a4d-5656-4e68-aef5-9558452ae9c9",
      "metadata": {
        "id": "7b4a7a4d-5656-4e68-aef5-9558452ae9c9"
      },
      "source": [
        "**Remove duplicate data from the dataset**"
      ]
    },
    {
      "cell_type": "code",
      "execution_count": null,
      "id": "dfae4f86-73b7-4887-bbee-181599d6a7e6",
      "metadata": {
        "id": "dfae4f86-73b7-4887-bbee-181599d6a7e6"
      },
      "outputs": [],
      "source": [
        "data.drop_duplicates(inplace=True)\n",
        "data.duplicated().sum()"
      ]
    },
    {
      "cell_type": "code",
      "execution_count": null,
      "id": "46d1f9b0-eb17-4ac9-a902-002d394de21d",
      "metadata": {
        "id": "46d1f9b0-eb17-4ac9-a902-002d394de21d"
      },
      "outputs": [],
      "source": [
        "# checking shape of the data\n",
        "print(\"There are\", data.shape[0], 'rows and', data.shape[1], \"columns.\")"
      ]
    },
    {
      "cell_type": "markdown",
      "id": "7721aa04-51cd-481e-852c-56b1f003ddbc",
      "metadata": {
        "id": "7721aa04-51cd-481e-852c-56b1f003ddbc"
      },
      "source": [
        "### Summary\n",
        "* There are 12 columns, consists of 11 parameters and one target variable\n",
        "* There is no missing data.\n",
        "* There were 240 duplicates, which have been removed.\n",
        "* No treatment required for missing data."
      ]
    },
    {
      "cell_type": "markdown",
      "id": "175c6b1c-c570-4bfa-a042-c8677f5540b0",
      "metadata": {
        "id": "175c6b1c-c570-4bfa-a042-c8677f5540b0"
      },
      "source": [
        "<br>"
      ]
    },
    {
      "cell_type": "markdown",
      "id": "938c65c1-3e89-4d64-8f8b-3551c780f9e8",
      "metadata": {
        "id": "938c65c1-3e89-4d64-8f8b-3551c780f9e8"
      },
      "source": [
        "## Data Analysis & Visualization"
      ]
    },
    {
      "cell_type": "markdown",
      "id": "1e5a2880-cd5d-4b01-9969-105331c90da6",
      "metadata": {
        "id": "1e5a2880-cd5d-4b01-9969-105331c90da6"
      },
      "source": [
        "### Target Variable: Signal_Strength"
      ]
    },
    {
      "cell_type": "code",
      "execution_count": null,
      "id": "7fc13ab0-9fec-4198-bc15-0a1cf078aa14",
      "metadata": {
        "id": "7fc13ab0-9fec-4198-bc15-0a1cf078aa14"
      },
      "outputs": [],
      "source": [
        "sns.countplot(x='Signal_Strength', data=data)\n",
        "plt.title('Distribution of Signal_Strength')\n",
        "plt.xlabel('Target')\n",
        "plt.ylabel('Count')\n",
        "plt.show()"
      ]
    },
    {
      "cell_type": "code",
      "execution_count": null,
      "id": "a4a2088f-55d0-4687-8f6e-924670884538",
      "metadata": {
        "id": "a4a2088f-55d0-4687-8f6e-924670884538"
      },
      "outputs": [],
      "source": [
        "sns.boxplot(data, x='Signal_Strength')\n",
        "plt.show()"
      ]
    },
    {
      "cell_type": "markdown",
      "id": "decd8d92-daf9-4fc6-a0e3-7da5b3fcc768",
      "metadata": {
        "id": "decd8d92-daf9-4fc6-a0e3-7da5b3fcc768"
      },
      "source": [
        "**Observations**\n",
        "* There are very few outliers."
      ]
    },
    {
      "cell_type": "code",
      "execution_count": null,
      "id": "85f51439-bc52-425d-a627-d729938184c6",
      "metadata": {
        "id": "85f51439-bc52-425d-a627-d729938184c6"
      },
      "outputs": [],
      "source": [
        "print(data['Signal_Strength'].value_counts())\n",
        "print(data['Signal_Strength'].dtype)"
      ]
    },
    {
      "cell_type": "markdown",
      "id": "01b11a0c-4638-44f1-89a0-62f1ed81257f",
      "metadata": {
        "id": "01b11a0c-4638-44f1-89a0-62f1ed81257f"
      },
      "source": [
        "<br>"
      ]
    },
    {
      "cell_type": "markdown",
      "id": "161b99f6-a6eb-4ca5-ac54-c9e3fa7814e8",
      "metadata": {
        "id": "161b99f6-a6eb-4ca5-ac54-c9e3fa7814e8"
      },
      "source": [
        "#### Correlation Check against Target Variable: Signal_Strength"
      ]
    },
    {
      "cell_type": "code",
      "execution_count": null,
      "id": "cf1de2cd-d2a1-4640-ad09-f938c282d243",
      "metadata": {
        "id": "cf1de2cd-d2a1-4640-ad09-f938c282d243"
      },
      "outputs": [],
      "source": [
        "correlation_matrix = data.corr(numeric_only=True)\n",
        "signal_corr = correlation_matrix['Signal_Strength'].drop('Signal_Strength')\n",
        "print(signal_corr.sort_values(ascending=False))"
      ]
    },
    {
      "cell_type": "code",
      "execution_count": null,
      "id": "3d6f63d2-db70-4c0f-b3a3-def0e3624c40",
      "metadata": {
        "colab": {
          "base_uri": "https://localhost:8080/",
          "height": 216
        },
        "id": "3d6f63d2-db70-4c0f-b3a3-def0e3624c40",
        "outputId": "b2015ad4-d5c8-455e-e0ee-6ee00f9bca3f"
      },
      "outputs": [
        {
          "output_type": "error",
          "ename": "NameError",
          "evalue": "name 'data' is not defined",
          "traceback": [
            "\u001b[0;31m---------------------------------------------------------------------------\u001b[0m",
            "\u001b[0;31mNameError\u001b[0m                                 Traceback (most recent call last)",
            "\u001b[0;32m<ipython-input-7-fb16f4670b85>\u001b[0m in \u001b[0;36m<cell line: 0>\u001b[0;34m()\u001b[0m\n\u001b[1;32m      1\u001b[0m \u001b[0mplt\u001b[0m\u001b[0;34m.\u001b[0m\u001b[0mfigure\u001b[0m\u001b[0;34m(\u001b[0m\u001b[0mfigsize\u001b[0m\u001b[0;34m=\u001b[0m\u001b[0;34m(\u001b[0m\u001b[0;36m10\u001b[0m\u001b[0;34m,\u001b[0m \u001b[0;36m6\u001b[0m\u001b[0;34m)\u001b[0m\u001b[0;34m)\u001b[0m\u001b[0;34m\u001b[0m\u001b[0;34m\u001b[0m\u001b[0m\n\u001b[0;32m----> 2\u001b[0;31m \u001b[0msns\u001b[0m\u001b[0;34m.\u001b[0m\u001b[0mheatmap\u001b[0m\u001b[0;34m(\u001b[0m\u001b[0mdata\u001b[0m\u001b[0;34m.\u001b[0m\u001b[0mcorr\u001b[0m\u001b[0;34m(\u001b[0m\u001b[0mnumeric_only\u001b[0m\u001b[0;34m=\u001b[0m\u001b[0;32mTrue\u001b[0m\u001b[0;34m)\u001b[0m\u001b[0;34m[\u001b[0m\u001b[0;34m[\u001b[0m\u001b[0;34m'Signal_Strength'\u001b[0m\u001b[0;34m]\u001b[0m\u001b[0;34m]\u001b[0m\u001b[0;34m.\u001b[0m\u001b[0msort_values\u001b[0m\u001b[0;34m(\u001b[0m\u001b[0mby\u001b[0m\u001b[0;34m=\u001b[0m\u001b[0;34m'Signal_Strength'\u001b[0m\u001b[0;34m,\u001b[0m \u001b[0mascending\u001b[0m\u001b[0;34m=\u001b[0m\u001b[0;32mFalse\u001b[0m\u001b[0;34m)\u001b[0m\u001b[0;34m,\u001b[0m \u001b[0mannot\u001b[0m\u001b[0;34m=\u001b[0m\u001b[0;32mTrue\u001b[0m\u001b[0;34m,\u001b[0m \u001b[0mcmap\u001b[0m\u001b[0;34m=\u001b[0m\u001b[0;34m'Spectral'\u001b[0m\u001b[0;34m)\u001b[0m\u001b[0;34m\u001b[0m\u001b[0;34m\u001b[0m\u001b[0m\n\u001b[0m\u001b[1;32m      3\u001b[0m \u001b[0mplt\u001b[0m\u001b[0;34m.\u001b[0m\u001b[0mtitle\u001b[0m\u001b[0;34m(\u001b[0m\u001b[0;34m'Correlation of Features with Signal Strength'\u001b[0m\u001b[0;34m)\u001b[0m\u001b[0;34m\u001b[0m\u001b[0;34m\u001b[0m\u001b[0m\n\u001b[1;32m      4\u001b[0m \u001b[0mplt\u001b[0m\u001b[0;34m.\u001b[0m\u001b[0mshow\u001b[0m\u001b[0;34m(\u001b[0m\u001b[0;34m)\u001b[0m\u001b[0;34m\u001b[0m\u001b[0;34m\u001b[0m\u001b[0m\n",
            "\u001b[0;31mNameError\u001b[0m: name 'data' is not defined"
          ]
        },
        {
          "output_type": "display_data",
          "data": {
            "text/plain": [
              "<Figure size 1000x600 with 0 Axes>"
            ]
          },
          "metadata": {}
        }
      ],
      "source": [
        "plt.figure(figsize=(10, 6))\n",
        "sns.heatmap(data.corr(numeric_only=True)[['Signal_Strength']].sort_values(by='Signal_Strength', ascending=False), annot=True, cmap='Spectral')\n",
        "plt.title('Correlation of Features with Signal Strength')\n",
        "plt.show()"
      ]
    },
    {
      "cell_type": "markdown",
      "id": "d61062f1-984b-4b60-8fab-a8a65da58f07",
      "metadata": {
        "id": "d61062f1-984b-4b60-8fab-a8a65da58f07"
      },
      "source": [
        "<br>"
      ]
    },
    {
      "cell_type": "markdown",
      "id": "d6d1c580-bde7-464c-a67a-814d81163b6a",
      "metadata": {
        "id": "d6d1c580-bde7-464c-a67a-814d81163b6a"
      },
      "source": [
        "### Insights:\n",
        "* Maximum signal strength emitted is 5 and 6\n",
        "* Parameter 11 is highest positive correlated with Signal Strength\n",
        "* Parameter 2 is highest negative correlated with Signal Strength"
      ]
    },
    {
      "cell_type": "markdown",
      "id": "796c4c29-5d15-411a-beff-8261f719119e",
      "metadata": {
        "id": "796c4c29-5d15-411a-beff-8261f719119e"
      },
      "source": [
        "<br>"
      ]
    },
    {
      "cell_type": "markdown",
      "id": "4467e029-b090-4c1f-8382-60ff389b1a41",
      "metadata": {
        "id": "4467e029-b090-4c1f-8382-60ff389b1a41"
      },
      "source": [
        "## Model Building"
      ]
    },
    {
      "cell_type": "markdown",
      "id": "ff3b5516-2ddd-48a0-bf36-d87e650bf0f9",
      "metadata": {
        "id": "ff3b5516-2ddd-48a0-bf36-d87e650bf0f9"
      },
      "source": [
        "### Split the data into train and test sets"
      ]
    },
    {
      "cell_type": "code",
      "execution_count": null,
      "id": "2bc54776-67e7-4c6f-8c10-d2f5a54952cb",
      "metadata": {
        "id": "2bc54776-67e7-4c6f-8c10-d2f5a54952cb"
      },
      "outputs": [],
      "source": [
        "X = data.drop([\"Signal_Strength\"], axis=1)\n",
        "y = data[\"Signal_Strength\"]"
      ]
    },
    {
      "cell_type": "code",
      "execution_count": null,
      "id": "24dd0ed0-90d2-4460-b44d-c585d5c2ff15",
      "metadata": {
        "id": "24dd0ed0-90d2-4460-b44d-c585d5c2ff15"
      },
      "outputs": [],
      "source": [
        "X_train, X_test, y_train, y_test = train_test_split(X, y, test_size=0.3, random_state=42)"
      ]
    },
    {
      "cell_type": "code",
      "execution_count": null,
      "id": "1ac5242a-29aa-41ba-9cd8-9040aa95e629",
      "metadata": {
        "id": "1ac5242a-29aa-41ba-9cd8-9040aa95e629"
      },
      "outputs": [],
      "source": [
        "print(X_train.shape)\n",
        "print(X_test.shape)\n",
        "print(y_train.shape)\n",
        "print(y_test.shape)"
      ]
    },
    {
      "cell_type": "code",
      "execution_count": null,
      "id": "95011f57-90a2-4cd5-af31-bb70de45a258",
      "metadata": {
        "id": "95011f57-90a2-4cd5-af31-bb70de45a258"
      },
      "outputs": [],
      "source": [
        "# Normalize the data\n",
        "scaler = StandardScaler()\n",
        "X_train_scaled = scaler.fit_transform(X_train)\n",
        "X_test_scaled = scaler.transform(X_test)"
      ]
    },
    {
      "cell_type": "code",
      "execution_count": null,
      "id": "1d88d374-2dd3-458e-ab35-79178bd1a247",
      "metadata": {
        "id": "1d88d374-2dd3-458e-ab35-79178bd1a247"
      },
      "outputs": [],
      "source": [
        "# Encoding & Label Transformation\n",
        "y_train_encoded = to_categorical(y_train)\n",
        "y_test_encoded = to_categorical(y_test)"
      ]
    },
    {
      "cell_type": "markdown",
      "id": "16cdea0e-d365-46a6-bb91-ba5de5eff1ed",
      "metadata": {
        "id": "16cdea0e-d365-46a6-bb91-ba5de5eff1ed"
      },
      "source": [
        "<br>"
      ]
    },
    {
      "cell_type": "markdown",
      "id": "d55cc000-3bb7-4a07-90e4-6d3a7a9fa3f7",
      "metadata": {
        "id": "d55cc000-3bb7-4a07-90e4-6d3a7a9fa3f7"
      },
      "source": [
        "## 1. Base Model (One Layer)"
      ]
    },
    {
      "cell_type": "markdown",
      "id": "02b29cbd-3810-47f3-8e3d-47aced74e572",
      "metadata": {
        "id": "02b29cbd-3810-47f3-8e3d-47aced74e572"
      },
      "source": [
        "### Building the model"
      ]
    },
    {
      "cell_type": "code",
      "execution_count": null,
      "id": "5aa4c4d5-7752-4256-ace0-da21c315e572",
      "metadata": {
        "id": "5aa4c4d5-7752-4256-ace0-da21c315e572"
      },
      "outputs": [],
      "source": [
        "model = Sequential([\n",
        "    Dense(64, activation='relu', input_shape=(X_train_scaled.shape[1],)),\n",
        "    Dropout(0.3),\n",
        "    Dense(32, activation='relu'),\n",
        "    Dropout(0.2),\n",
        "    Dense(y_train_encoded.shape[1], activation='softmax')  # Output layer for multi-class\n",
        "])"
      ]
    },
    {
      "cell_type": "markdown",
      "id": "1f405de3-d082-4c6b-8a97-72f27c5954f3",
      "metadata": {
        "id": "1f405de3-d082-4c6b-8a97-72f27c5954f3"
      },
      "source": [
        "<br>"
      ]
    },
    {
      "cell_type": "markdown",
      "id": "910c12f4-584a-4a61-8643-05dc6c74ddc0",
      "metadata": {
        "id": "910c12f4-584a-4a61-8643-05dc6c74ddc0"
      },
      "source": [
        "### Compile the model"
      ]
    },
    {
      "cell_type": "code",
      "execution_count": null,
      "id": "ecb234cf-2cd6-4baf-b56f-3dfb87b188cf",
      "metadata": {
        "id": "ecb234cf-2cd6-4baf-b56f-3dfb87b188cf"
      },
      "outputs": [],
      "source": [
        "model.compile(optimizer='adam',\n",
        "                 loss='categorical_crossentropy',\n",
        "                 metrics=['accuracy'])"
      ]
    },
    {
      "cell_type": "code",
      "execution_count": null,
      "id": "58457334-7351-48a0-93d4-cf74b38fde1a",
      "metadata": {
        "id": "58457334-7351-48a0-93d4-cf74b38fde1a"
      },
      "outputs": [],
      "source": [
        "model.summary()"
      ]
    },
    {
      "cell_type": "markdown",
      "id": "dc612db8-64d0-4b7a-a85d-dcf69e02905a",
      "metadata": {
        "id": "dc612db8-64d0-4b7a-a85d-dcf69e02905a"
      },
      "source": [
        "<br>"
      ]
    },
    {
      "cell_type": "markdown",
      "id": "513a1872-163b-430d-8e12-a8c33e277c53",
      "metadata": {
        "id": "513a1872-163b-430d-8e12-a8c33e277c53"
      },
      "source": [
        "### Fit the model"
      ]
    },
    {
      "cell_type": "code",
      "execution_count": null,
      "id": "7caf9c79-120c-4667-a04f-377d4f6adbf5",
      "metadata": {
        "id": "7caf9c79-120c-4667-a04f-377d4f6adbf5"
      },
      "outputs": [],
      "source": [
        "history = model.fit(X_train_scaled, y_train_encoded, epochs=50, batch_size=X_train_scaled.shape[0], validation_data=(X_test_scaled, y_test_encoded))"
      ]
    },
    {
      "cell_type": "markdown",
      "id": "0a6e78e1-0f54-4473-bd53-6c80c958d59f",
      "metadata": {
        "id": "0a6e78e1-0f54-4473-bd53-6c80c958d59f"
      },
      "source": [
        "<br>"
      ]
    },
    {
      "cell_type": "markdown",
      "id": "09c90f61-842c-46a4-92a5-b4a3a7110bb6",
      "metadata": {
        "id": "09c90f61-842c-46a4-92a5-b4a3a7110bb6"
      },
      "source": [
        "### Plot Utility"
      ]
    },
    {
      "cell_type": "code",
      "execution_count": null,
      "id": "3c600729-44d3-4f5d-a745-ae2c1ea4e90b",
      "metadata": {
        "id": "3c600729-44d3-4f5d-a745-ae2c1ea4e90b"
      },
      "outputs": [],
      "source": [
        "def plot_metrics(history, title_suffix):\n",
        "    plt.figure(figsize=(12, 5))\n",
        "\n",
        "    # Loss Plot\n",
        "    plt.subplot(1, 2, 1)\n",
        "    plt.plot(history.history['loss'], label='Train Loss')\n",
        "    plt.plot(history.history['val_loss'], label='Validation Loss')\n",
        "    plt.title(f'Training vs Validation Loss - {title_suffix}')\n",
        "    plt.xlabel('Epochs')\n",
        "    plt.ylabel('Loss')\n",
        "    plt.legend()\n",
        "\n",
        "    # Accuracy Plot\n",
        "    plt.subplot(1, 2, 2)\n",
        "    plt.plot(history.history['accuracy'], label='Train Accuracy')\n",
        "    plt.plot(history.history['val_accuracy'], label='Validation Accuracy')\n",
        "    plt.title(f'Training vs Validation Accuracy - {title_suffix}')\n",
        "    plt.xlabel('Epochs')\n",
        "    plt.ylabel('Accuracy')\n",
        "    plt.legend()\n",
        "\n",
        "    plt.tight_layout()\n",
        "    plt.show()"
      ]
    },
    {
      "cell_type": "markdown",
      "id": "9b820d7b-1980-45b3-b557-b4810269e609",
      "metadata": {
        "id": "9b820d7b-1980-45b3-b557-b4810269e609"
      },
      "source": [
        "<br>"
      ]
    },
    {
      "cell_type": "markdown",
      "id": "03307ffa-53e1-4ee7-a9e1-13d2e6801e84",
      "metadata": {
        "id": "03307ffa-53e1-4ee7-a9e1-13d2e6801e84"
      },
      "source": [
        "### Training Loss and Validation Loss"
      ]
    },
    {
      "cell_type": "code",
      "execution_count": null,
      "id": "43123c8e-dfcf-4a27-bdbe-7b0b67a4835e",
      "metadata": {
        "id": "43123c8e-dfcf-4a27-bdbe-7b0b67a4835e"
      },
      "outputs": [],
      "source": [
        "plot_metrics(history, 'Base Model (Initial)')"
      ]
    },
    {
      "cell_type": "markdown",
      "id": "3d69c4b2-9767-4f45-b572-4741130ba4a2",
      "metadata": {
        "id": "3d69c4b2-9767-4f45-b572-4741130ba4a2"
      },
      "source": [
        "<br>"
      ]
    },
    {
      "cell_type": "code",
      "execution_count": null,
      "id": "75f0ac8f-1b19-48ea-b639-68b145695e6a",
      "metadata": {
        "id": "75f0ac8f-1b19-48ea-b639-68b145695e6a"
      },
      "outputs": [],
      "source": [
        "metric_data = {\n",
        "    \"Factors\": [\"Training Loss\", \"Validation Loss\", \"Training Accuracy\", \"Validation Accuracy\", \"Convergance\", \"Training Stability\", \"Generalization\"],\n",
        "}"
      ]
    },
    {
      "cell_type": "code",
      "execution_count": null,
      "id": "98304c1a-d085-4831-8266-43a6d2df36d2",
      "metadata": {
        "id": "98304c1a-d085-4831-8266-43a6d2df36d2"
      },
      "outputs": [],
      "source": [
        "metric_data[\"Base Model\"] = [1.35, 1.25, \"50%\", \"55%\", \"Slow\", \"Noise\", \"Not optimal\"]"
      ]
    },
    {
      "cell_type": "markdown",
      "id": "9fb498ca-955c-4b8b-9d6f-2244fad79109",
      "metadata": {
        "id": "9fb498ca-955c-4b8b-9d6f-2244fad79109"
      },
      "source": [
        "<br>"
      ]
    },
    {
      "cell_type": "markdown",
      "id": "d0ea6485-8889-4cc0-9be0-fca7714ab604",
      "metadata": {
        "id": "d0ea6485-8889-4cc0-9be0-fca7714ab604"
      },
      "source": [
        "## 2. Improved Model (Multiple Hidden Layer, Weight Initializers)"
      ]
    },
    {
      "cell_type": "code",
      "execution_count": null,
      "id": "3d6d0c84-9a1b-40e9-8c04-315571792d0f",
      "metadata": {
        "id": "3d6d0c84-9a1b-40e9-8c04-315571792d0f"
      },
      "outputs": [],
      "source": [
        "model_improved = Sequential([\n",
        "    Dense(128, activation='relu', input_shape=(X_train_scaled.shape[1],)),\n",
        "    Dropout(0.4),\n",
        "    Dense(64, activation='relu', kernel_initializer='he_uniform'),\n",
        "    Dropout(0.3),\n",
        "    Dense(32, activation='relu', kernel_initializer='he_uniform'),\n",
        "    Dense(y_train_encoded.shape[1], activation='softmax')\n",
        "])"
      ]
    },
    {
      "cell_type": "code",
      "execution_count": null,
      "id": "337bccc5-c9df-450a-8949-8429403b74f0",
      "metadata": {
        "id": "337bccc5-c9df-450a-8949-8429403b74f0"
      },
      "outputs": [],
      "source": [
        "model_improved.compile(optimizer='adam',\n",
        "                 loss='categorical_crossentropy',\n",
        "                 metrics=['accuracy'])"
      ]
    },
    {
      "cell_type": "code",
      "execution_count": null,
      "id": "4a828c9e-b9fe-4096-9a75-ad6e70477a5f",
      "metadata": {
        "id": "4a828c9e-b9fe-4096-9a75-ad6e70477a5f"
      },
      "outputs": [],
      "source": [
        "model_improved.summary()"
      ]
    },
    {
      "cell_type": "code",
      "execution_count": null,
      "id": "ccf8e2a9-e3c7-48f1-89e4-a4193268cb41",
      "metadata": {
        "id": "ccf8e2a9-e3c7-48f1-89e4-a4193268cb41"
      },
      "outputs": [],
      "source": [
        "history_improved = model_improved.fit(X_train_scaled, y_train_encoded, epochs=50, batch_size=X_train_scaled.shape[0], validation_data=(X_test_scaled, y_test_encoded))"
      ]
    },
    {
      "cell_type": "code",
      "execution_count": null,
      "id": "4566e84c-f4cc-47cd-bbff-60d0f058fb37",
      "metadata": {
        "id": "4566e84c-f4cc-47cd-bbff-60d0f058fb37"
      },
      "outputs": [],
      "source": [
        "plot_metrics(history_improved, 'Improved Model')"
      ]
    },
    {
      "cell_type": "code",
      "execution_count": null,
      "id": "71c8d426-a6cb-4955-b4ff-02255809134a",
      "metadata": {
        "id": "71c8d426-a6cb-4955-b4ff-02255809134a"
      },
      "outputs": [],
      "source": [
        "metric_data[\"Improved Model\"] = [1.15, 1.05, \"60%\", \"65%\", \"Faster\", \"Stable\", \"Excellent\"]"
      ]
    },
    {
      "cell_type": "markdown",
      "id": "7fbafcf2-e5d1-4fc9-8ca5-860f53f85094",
      "metadata": {
        "id": "7fbafcf2-e5d1-4fc9-8ca5-860f53f85094"
      },
      "source": [
        "## Comparisions:\n",
        "1.\n",
        "\n",
        "\n",
        "\n"
      ]
    },
    {
      "cell_type": "code",
      "execution_count": null,
      "id": "7eef2e14-d44d-45ab-8d87-3a177493b1f1",
      "metadata": {
        "id": "7eef2e14-d44d-45ab-8d87-3a177493b1f1"
      },
      "outputs": [],
      "source": [
        "metric_df = pd.DataFrame(metric_data)\n",
        "print(metric_df)"
      ]
    },
    {
      "cell_type": "markdown",
      "id": "9f8caf4f-9565-4cbc-b604-d74188c1124c",
      "metadata": {
        "id": "9f8caf4f-9565-4cbc-b604-d74188c1124c"
      },
      "source": [
        "<center><font size=6><b>PART B</b></font></center>"
      ]
    },
    {
      "cell_type": "code",
      "execution_count": 26,
      "id": "7e1979d7-0aca-4964-b229-e762429f9100",
      "metadata": {
        "id": "7e1979d7-0aca-4964-b229-e762429f9100"
      },
      "outputs": [],
      "source": [
        "import h5py\n",
        "import numpy as np\n",
        "from sklearn.model_selection import train_test_split"
      ]
    },
    {
      "cell_type": "code",
      "source": [
        "# Q1 A - Read the .h5 file and assign to a variable\n",
        "hf = h5py.File('/content/drive/MyDrive/Colab Notebooks/Autonomous_Vehicles_SVHN_single_grey1.h5', 'r')"
      ],
      "metadata": {
        "id": "GWzqQ1WgZGxU"
      },
      "id": "GWzqQ1WgZGxU",
      "execution_count": 27,
      "outputs": []
    },
    {
      "cell_type": "code",
      "source": [
        "# Q1 B - Print all the keys from the .h5 file\n",
        "print(\"Keys:\", list(hf.keys()))"
      ],
      "metadata": {
        "id": "m2oNmwnK19ob",
        "outputId": "2720680c-6a23-4b76-a81d-4ddcaf0df587",
        "colab": {
          "base_uri": "https://localhost:8080/"
        }
      },
      "id": "m2oNmwnK19ob",
      "execution_count": 28,
      "outputs": [
        {
          "output_type": "stream",
          "name": "stdout",
          "text": [
            "Keys: ['X_test', 'X_train', 'X_val', 'y_test', 'y_train', 'y_val']\n"
          ]
        }
      ]
    },
    {
      "cell_type": "code",
      "source": [
        "# Q1 C: Split data into X_train, X_test, Y_train, Y_test\n",
        "X_train = np.array(hf['X_train'])\n",
        "X_test = np.array(hf['X_test'])\n",
        "X_val = np.array(hf['X_val'])\n",
        "y_train = np.array(hf['y_train'])\n",
        "y_test = np.array(hf['y_test'])\n",
        "y_val = np.array(hf['y_val'])\n",
        "\n",
        "hf.close()"
      ],
      "metadata": {
        "id": "837Qy8OYQWV0"
      },
      "id": "837Qy8OYQWV0",
      "execution_count": 29,
      "outputs": []
    },
    {
      "cell_type": "code",
      "source": [
        "# Q2 A - Print shape of all the 4 data split into x, y, train, test to verify if x & y is in sync\n",
        "print(\"X_train shape:\", X_train.shape)\n",
        "print(\"X_test shape:\", X_test.shape)\n",
        "print(\"X_val shape:\", X_val.shape)\n",
        "print(\"y_train shape:\", y_train.shape)\n",
        "print(\"y_test shape:\", y_test.shape)\n",
        "print(\"y_val shape:\", y_val.shape)"
      ],
      "metadata": {
        "id": "GVSLJ7YvURLF",
        "outputId": "fed02e07-7670-4713-d8e8-13b1ee1011f5",
        "colab": {
          "base_uri": "https://localhost:8080/"
        }
      },
      "id": "GVSLJ7YvURLF",
      "execution_count": 30,
      "outputs": [
        {
          "output_type": "stream",
          "name": "stdout",
          "text": [
            "X_train shape: (42000, 32, 32)\n",
            "X_test shape: (18000, 32, 32)\n",
            "X_val shape: (60000, 32, 32)\n",
            "y_train shape: (42000,)\n",
            "y_test shape: (18000,)\n",
            "y_val shape: (60000,)\n"
          ]
        }
      ]
    },
    {
      "cell_type": "code",
      "source": [
        "# Q2 B - Visualise first 10 images in train data and print its corresponding labels.\n",
        "import matplotlib.pyplot as plt\n",
        "\n",
        "plt.figure(figsize=(10, 1))\n",
        "for i in range(10):\n",
        "    plt.subplot(1, 10, i + 1)\n",
        "    plt.imshow(X_train[i], cmap='gray')\n",
        "    plt.axis('off')\n",
        "    plt.title(int(y_train[i]))\n",
        "plt.show()"
      ],
      "metadata": {
        "id": "gQpPemitVROx",
        "outputId": "cb1265cd-f4c2-4322-cdb5-c476654a08a2",
        "colab": {
          "base_uri": "https://localhost:8080/",
          "height": 125
        }
      },
      "id": "gQpPemitVROx",
      "execution_count": 31,
      "outputs": [
        {
          "output_type": "display_data",
          "data": {
            "text/plain": [
              "<Figure size 1000x100 with 10 Axes>"
            ],
            "image/png": "[encoded data removed]"
          },
          "metadata": {}
        }
      ]
    },
    {
      "cell_type": "code",
      "source": [
        "# Q2 C - Reshape all the images with appropriate shape update the data in same variable.\n",
        "image_vector_size = 32*32\n",
        "X_train = X_train.reshape(X_train.shape[0], image_vector_size)\n",
        "X_test = X_test.reshape(X_test.shape[0], image_vector_size)\n",
        "X_val = X_val.reshape(X_val.shape[0], image_vector_size)"
      ],
      "metadata": {
        "id": "kLQKzErbVLjI"
      },
      "id": "kLQKzErbVLjI",
      "execution_count": 32,
      "outputs": []
    },
    {
      "cell_type": "markdown",
      "source": [],
      "metadata": {
        "id": "urRCJpsSZGZN"
      },
      "id": "urRCJpsSZGZN"
    },
    {
      "cell_type": "code",
      "source": [
        "# Q2 D - Normalize the images i.e. Normalise the pixel values\n",
        "# # normalize inputs from 0-255 to 0-1\n",
        "X_train = X_train / 255.0\n",
        "X_test = X_test / 255.0\n",
        "X_val = X_val / 255.0"
      ],
      "metadata": {
        "id": "Wz9NChZnV15L"
      },
      "id": "Wz9NChZnV15L",
      "execution_count": 33,
      "outputs": []
    },
    {
      "cell_type": "code",
      "source": [
        "print(\"X_train shape:\", X_train.shape)\n",
        "print(\"X_test shape:\", X_test.shape)\n",
        "print(\"X_val shape:\", X_val.shape)"
      ],
      "metadata": {
        "id": "h1nXiGZu4wcx",
        "outputId": "b4578655-a8e0-4ef3-da46-4491a85238b5",
        "colab": {
          "base_uri": "https://localhost:8080/"
        }
      },
      "id": "h1nXiGZu4wcx",
      "execution_count": 34,
      "outputs": [
        {
          "output_type": "stream",
          "name": "stdout",
          "text": [
            "X_train shape: (42000, 1024)\n",
            "X_test shape: (18000, 1024)\n",
            "X_val shape: (60000, 1024)\n"
          ]
        }
      ]
    },
    {
      "cell_type": "code",
      "source": [
        "# Q2 E - Transform Labels into format acceptable by Neural Network\n",
        "# Convert to \"one-hot\" vectors using the to_categorical function\n",
        "from tensorflow.keras.utils import to_categorical\n",
        "\n",
        "num_classes = 10\n",
        "y_train = to_categorical(y_train, num_classes)\n",
        "y_test = to_categorical(y_test, num_classes)\n",
        "y_val = to_categorical(y_val, num_classes)\n",
        "print(\"First 5 training lables as one-hot encoded vectors:\\n\", y_train[:5])\n"
      ],
      "metadata": {
        "id": "yKG3CdaXWLrR",
        "colab": {
          "base_uri": "https://localhost:8080/"
        },
        "outputId": "211afc61-29d8-4094-e88f-640ccde8c0c6"
      },
      "id": "yKG3CdaXWLrR",
      "execution_count": 35,
      "outputs": [
        {
          "output_type": "stream",
          "name": "stdout",
          "text": [
            "First 5 training lables as one-hot encoded vectors:\n",
            " [[0. 0. 1. 0. 0. 0. 0. 0. 0. 0.]\n",
            " [0. 0. 0. 0. 0. 0. 1. 0. 0. 0.]\n",
            " [0. 0. 0. 0. 0. 0. 0. 1. 0. 0.]\n",
            " [0. 0. 0. 0. 1. 0. 0. 0. 0. 0.]\n",
            " [0. 0. 0. 0. 1. 0. 0. 0. 0. 0.]]\n"
          ]
        }
      ]
    },
    {
      "cell_type": "code",
      "source": [
        "# Q2 F - Print total Number of classes in the Dataset\n",
        "print(\"Total number of classes:\", y_train.shape[1])\n"
      ],
      "metadata": {
        "id": "MEZccsrjWciK",
        "outputId": "9402eeeb-629d-429b-b981-9bad7175bc4b",
        "colab": {
          "base_uri": "https://localhost:8080/"
        }
      },
      "id": "MEZccsrjWciK",
      "execution_count": 36,
      "outputs": [
        {
          "output_type": "stream",
          "name": "stdout",
          "text": [
            "Total number of classes: 10\n"
          ]
        }
      ]
    },
    {
      "cell_type": "code",
      "source": [
        "# Q3 A - Design a Neural Network to train a classifier.\n",
        "from tensorflow.keras import losses\n",
        "from tensorflow.keras import optimizers\n",
        "from keras import Sequential\n",
        "from tensorflow.keras.layers import Dense\n",
        "from tensorflow.keras.layers import BatchNormalization\n",
        "from tensorflow.keras.layers import Dropout\n",
        "\n",
        "image_size=32*32\n",
        "\n",
        "# create model\n",
        "model = Sequential()\n",
        "\n",
        "model.add(Dense(256, activation='relu',kernel_initializer='he_uniform',input_shape=(image_size,))) ###Multiple Dense units with Relu activation\n",
        "model.add(Dense(64, activation='relu',kernel_initializer='he_uniform'))\n",
        "model.add(Dense(64, activation='relu',kernel_initializer='he_uniform'))\n",
        "model.add(Dense(32, activation='relu',kernel_initializer='he_uniform'))\n",
        "\n",
        "model.add(Dense(num_classes, activation='softmax')) ### For multiclass classification Softmax is used\n",
        "\n",
        "# Compile model\n",
        "model.compile(optimizer='adam', loss='categorical_crossentropy', metrics=['accuracy'])\n",
        "\n",
        "# Looking into our base model\n",
        "model.summary()"
      ],
      "metadata": {
        "id": "8hi9Dpae5TTJ",
        "outputId": "27944784-a940-469f-f813-c899c75c8389",
        "colab": {
          "base_uri": "https://localhost:8080/",
          "height": 353
        }
      },
      "id": "8hi9Dpae5TTJ",
      "execution_count": 37,
      "outputs": [
        {
          "output_type": "stream",
          "name": "stderr",
          "text": [
            "/usr/local/lib/python3.11/dist-packages/keras/src/layers/core/dense.py:87: UserWarning: Do not pass an `input_shape`/`input_dim` argument to a layer. When using Sequential models, prefer using an `Input(shape)` object as the first layer in the model instead.\n",
            "  super().__init__(activity_regularizer=activity_regularizer, **kwargs)\n"
          ]
        },
        {
          "output_type": "display_data",
          "data": {
            "text/plain": [
              "\u001b[1mModel: \"sequential_2\"\u001b[0m\n"
            ],
            "text/html": [
              "<pre style=\"white-space:pre;overflow-x:auto;line-height:normal;font-family:Menlo,'DejaVu Sans Mono',consolas,'Courier New',monospace\"><span style=\"font-weight: bold\">Model: \"sequential_2\"</span>\n",
              "</pre>\n"
            ]
          },
          "metadata": {}
        },
        {
          "output_type": "display_data",
          "data": {
            "text/plain": [
              "┏━━━━━━━━━━━━━━━━━━━━━━━━━━━━━━━━━┳━━━━━━━━━━━━━━━━━━━━━━━━┳━━━━━━━━━━━━━━━┓\n",
              "┃\u001b[1m \u001b[0m\u001b[1mLayer (type)                   \u001b[0m\u001b[1m \u001b[0m┃\u001b[1m \u001b[0m\u001b[1mOutput Shape          \u001b[0m\u001b[1m \u001b[0m┃\u001b[1m \u001b[0m\u001b[1m      Param #\u001b[0m\u001b[1m \u001b[0m┃\n",
              "┡━━━━━━━━━━━━━━━━━━━━━━━━━━━━━━━━━╇━━━━━━━━━━━━━━━━━━━━━━━━╇━━━━━━━━━━━━━━━┩\n",
              "│ dense_10 (\u001b[38;5;33mDense\u001b[0m)                │ (\u001b[38;5;45mNone\u001b[0m, \u001b[38;5;34m256\u001b[0m)            │       \u001b[38;5;34m262,400\u001b[0m │\n",
              "├─────────────────────────────────┼────────────────────────┼───────────────┤\n",
              "│ dense_11 (\u001b[38;5;33mDense\u001b[0m)                │ (\u001b[38;5;45mNone\u001b[0m, \u001b[38;5;34m64\u001b[0m)             │        \u001b[38;5;34m16,448\u001b[0m │\n",
              "├─────────────────────────────────┼────────────────────────┼───────────────┤\n",
              "│ dense_12 (\u001b[38;5;33mDense\u001b[0m)                │ (\u001b[38;5;45mNone\u001b[0m, \u001b[38;5;34m64\u001b[0m)             │         \u001b[38;5;34m4,160\u001b[0m │\n",
              "├─────────────────────────────────┼────────────────────────┼───────────────┤\n",
              "│ dense_13 (\u001b[38;5;33mDense\u001b[0m)                │ (\u001b[38;5;45mNone\u001b[0m, \u001b[38;5;34m32\u001b[0m)             │         \u001b[38;5;34m2,080\u001b[0m │\n",
              "├─────────────────────────────────┼────────────────────────┼───────────────┤\n",
              "│ dense_14 (\u001b[38;5;33mDense\u001b[0m)                │ (\u001b[38;5;45mNone\u001b[0m, \u001b[38;5;34m10\u001b[0m)             │           \u001b[38;5;34m330\u001b[0m │\n",
              "└─────────────────────────────────┴────────────────────────┴───────────────┘\n"
            ],
            "text/html": [
              "<pre style=\"white-space:pre;overflow-x:auto;line-height:normal;font-family:Menlo,'DejaVu Sans Mono',consolas,'Courier New',monospace\">┏━━━━━━━━━━━━━━━━━━━━━━━━━━━━━━━━━┳━━━━━━━━━━━━━━━━━━━━━━━━┳━━━━━━━━━━━━━━━┓\n",
              "┃<span style=\"font-weight: bold\"> Layer (type)                    </span>┃<span style=\"font-weight: bold\"> Output Shape           </span>┃<span style=\"font-weight: bold\">       Param # </span>┃\n",
              "┡━━━━━━━━━━━━━━━━━━━━━━━━━━━━━━━━━╇━━━━━━━━━━━━━━━━━━━━━━━━╇━━━━━━━━━━━━━━━┩\n",
              "│ dense_10 (<span style=\"color: #0087ff; text-decoration-color: #0087ff\">Dense</span>)                │ (<span style=\"color: #00d7ff; text-decoration-color: #00d7ff\">None</span>, <span style=\"color: #00af00; text-decoration-color: #00af00\">256</span>)            │       <span style=\"color: #00af00; text-decoration-color: #00af00\">262,400</span> │\n",
              "├─────────────────────────────────┼────────────────────────┼───────────────┤\n",
              "│ dense_11 (<span style=\"color: #0087ff; text-decoration-color: #0087ff\">Dense</span>)                │ (<span style=\"color: #00d7ff; text-decoration-color: #00d7ff\">None</span>, <span style=\"color: #00af00; text-decoration-color: #00af00\">64</span>)             │        <span style=\"color: #00af00; text-decoration-color: #00af00\">16,448</span> │\n",
              "├─────────────────────────────────┼────────────────────────┼───────────────┤\n",
              "│ dense_12 (<span style=\"color: #0087ff; text-decoration-color: #0087ff\">Dense</span>)                │ (<span style=\"color: #00d7ff; text-decoration-color: #00d7ff\">None</span>, <span style=\"color: #00af00; text-decoration-color: #00af00\">64</span>)             │         <span style=\"color: #00af00; text-decoration-color: #00af00\">4,160</span> │\n",
              "├─────────────────────────────────┼────────────────────────┼───────────────┤\n",
              "│ dense_13 (<span style=\"color: #0087ff; text-decoration-color: #0087ff\">Dense</span>)                │ (<span style=\"color: #00d7ff; text-decoration-color: #00d7ff\">None</span>, <span style=\"color: #00af00; text-decoration-color: #00af00\">32</span>)             │         <span style=\"color: #00af00; text-decoration-color: #00af00\">2,080</span> │\n",
              "├─────────────────────────────────┼────────────────────────┼───────────────┤\n",
              "│ dense_14 (<span style=\"color: #0087ff; text-decoration-color: #0087ff\">Dense</span>)                │ (<span style=\"color: #00d7ff; text-decoration-color: #00d7ff\">None</span>, <span style=\"color: #00af00; text-decoration-color: #00af00\">10</span>)             │           <span style=\"color: #00af00; text-decoration-color: #00af00\">330</span> │\n",
              "└─────────────────────────────────┴────────────────────────┴───────────────┘\n",
              "</pre>\n"
            ]
          },
          "metadata": {}
        },
        {
          "output_type": "display_data",
          "data": {
            "text/plain": [
              "\u001b[1m Total params: \u001b[0m\u001b[38;5;34m285,418\u001b[0m (1.09 MB)\n"
            ],
            "text/html": [
              "<pre style=\"white-space:pre;overflow-x:auto;line-height:normal;font-family:Menlo,'DejaVu Sans Mono',consolas,'Courier New',monospace\"><span style=\"font-weight: bold\"> Total params: </span><span style=\"color: #00af00; text-decoration-color: #00af00\">285,418</span> (1.09 MB)\n",
              "</pre>\n"
            ]
          },
          "metadata": {}
        },
        {
          "output_type": "display_data",
          "data": {
            "text/plain": [
              "\u001b[1m Trainable params: \u001b[0m\u001b[38;5;34m285,418\u001b[0m (1.09 MB)\n"
            ],
            "text/html": [
              "<pre style=\"white-space:pre;overflow-x:auto;line-height:normal;font-family:Menlo,'DejaVu Sans Mono',consolas,'Courier New',monospace\"><span style=\"font-weight: bold\"> Trainable params: </span><span style=\"color: #00af00; text-decoration-color: #00af00\">285,418</span> (1.09 MB)\n",
              "</pre>\n"
            ]
          },
          "metadata": {}
        },
        {
          "output_type": "display_data",
          "data": {
            "text/plain": [
              "\u001b[1m Non-trainable params: \u001b[0m\u001b[38;5;34m0\u001b[0m (0.00 B)\n"
            ],
            "text/html": [
              "<pre style=\"white-space:pre;overflow-x:auto;line-height:normal;font-family:Menlo,'DejaVu Sans Mono',consolas,'Courier New',monospace\"><span style=\"font-weight: bold\"> Non-trainable params: </span><span style=\"color: #00af00; text-decoration-color: #00af00\">0</span> (0.00 B)\n",
              "</pre>\n"
            ]
          },
          "metadata": {}
        }
      ]
    },
    {
      "cell_type": "code",
      "source": [
        "# Q3 B - Train the classifier using previously designed Architecture (Use best suitable parameters).\n",
        "history = model.fit(X_train, y_train, validation_data=(X_test, y_test), epochs=10, batch_size=32)"
      ],
      "metadata": {
        "id": "96JBhA8VQ3Td",
        "outputId": "6e70b63b-479e-4bb2-d635-2baa8d2924f4",
        "colab": {
          "base_uri": "https://localhost:8080/"
        }
      },
      "id": "96JBhA8VQ3Td",
      "execution_count": 38,
      "outputs": [
        {
          "output_type": "stream",
          "name": "stdout",
          "text": [
            "Epoch 1/10\n",
            "\u001b[1m1313/1313\u001b[0m \u001b[32m━━━━━━━━━━━━━━━━━━━━\u001b[0m\u001b[37m\u001b[0m \u001b[1m14s\u001b[0m 9ms/step - accuracy: 0.1000 - loss: 2.3172 - val_accuracy: 0.0955 - val_loss: 2.3027\n",
            "Epoch 2/10\n",
            "\u001b[1m1313/1313\u001b[0m \u001b[32m━━━━━━━━━━━━━━━━━━━━\u001b[0m\u001b[37m\u001b[0m \u001b[1m20s\u001b[0m 9ms/step - accuracy: 0.0999 - loss: 2.3027 - val_accuracy: 0.0955 - val_loss: 2.3028\n",
            "Epoch 3/10\n",
            "\u001b[1m1313/1313\u001b[0m \u001b[32m━━━━━━━━━━━━━━━━━━━━\u001b[0m\u001b[37m\u001b[0m \u001b[1m12s\u001b[0m 9ms/step - accuracy: 0.1039 - loss: 2.3026 - val_accuracy: 0.0959 - val_loss: 2.3027\n",
            "Epoch 4/10\n",
            "\u001b[1m1313/1313\u001b[0m \u001b[32m━━━━━━━━━━━━━━━━━━━━\u001b[0m\u001b[37m\u001b[0m \u001b[1m19s\u001b[0m 8ms/step - accuracy: 0.1025 - loss: 2.3026 - val_accuracy: 0.0982 - val_loss: 2.3026\n",
            "Epoch 5/10\n",
            "\u001b[1m1313/1313\u001b[0m \u001b[32m━━━━━━━━━━━━━━━━━━━━\u001b[0m\u001b[37m\u001b[0m \u001b[1m11s\u001b[0m 9ms/step - accuracy: 0.0986 - loss: 2.3027 - val_accuracy: 0.0955 - val_loss: 2.3028\n",
            "Epoch 6/10\n",
            "\u001b[1m1313/1313\u001b[0m \u001b[32m━━━━━━━━━━━━━━━━━━━━\u001b[0m\u001b[37m\u001b[0m \u001b[1m21s\u001b[0m 9ms/step - accuracy: 0.1012 - loss: 2.3027 - val_accuracy: 0.0955 - val_loss: 2.3029\n",
            "Epoch 7/10\n",
            "\u001b[1m1313/1313\u001b[0m \u001b[32m━━━━━━━━━━━━━━━━━━━━\u001b[0m\u001b[37m\u001b[0m \u001b[1m21s\u001b[0m 9ms/step - accuracy: 0.1026 - loss: 2.3027 - val_accuracy: 0.1008 - val_loss: 2.3028\n",
            "Epoch 8/10\n",
            "\u001b[1m1313/1313\u001b[0m \u001b[32m━━━━━━━━━━━━━━━━━━━━\u001b[0m\u001b[37m\u001b[0m \u001b[1m13s\u001b[0m 10ms/step - accuracy: 0.1030 - loss: 2.3027 - val_accuracy: 0.1016 - val_loss: 2.3026\n",
            "Epoch 9/10\n",
            "\u001b[1m1313/1313\u001b[0m \u001b[32m━━━━━━━━━━━━━━━━━━━━\u001b[0m\u001b[37m\u001b[0m \u001b[1m18s\u001b[0m 8ms/step - accuracy: 0.0996 - loss: 2.3027 - val_accuracy: 0.1007 - val_loss: 2.3026\n",
            "Epoch 10/10\n",
            "\u001b[1m1313/1313\u001b[0m \u001b[32m━━━━━━━━━━━━━━━━━━━━\u001b[0m\u001b[37m\u001b[0m \u001b[1m22s\u001b[0m 10ms/step - accuracy: 0.0991 - loss: 2.3027 - val_accuracy: 0.1002 - val_loss: 2.3027\n"
          ]
        }
      ]
    },
    {
      "cell_type": "code",
      "source": [
        "history.history"
      ],
      "metadata": {
        "id": "ZGtG-4y3bhJ5",
        "outputId": "ea097237-081f-47e7-d025-7ae231f72ba5",
        "colab": {
          "base_uri": "https://localhost:8080/"
        }
      },
      "id": "ZGtG-4y3bhJ5",
      "execution_count": 39,
      "outputs": [
        {
          "output_type": "execute_result",
          "data": {
            "text/plain": [
              "{'accuracy': [0.10023809224367142,\n",
              "  0.09950000047683716,\n",
              "  0.10028571635484695,\n",
              "  0.10114285349845886,\n",
              "  0.0998571440577507,\n",
              "  0.09971428662538528,\n",
              "  0.10028571635484695,\n",
              "  0.10083333402872086,\n",
              "  0.09966666996479034,\n",
              "  0.0982142835855484],\n",
              " 'loss': [2.307141065597534,\n",
              "  2.302769899368286,\n",
              "  2.3027377128601074,\n",
              "  2.3027591705322266,\n",
              "  2.3027536869049072,\n",
              "  2.3027431964874268,\n",
              "  2.302765369415283,\n",
              "  2.302757740020752,\n",
              "  2.302788257598877,\n",
              "  2.3027844429016113],\n",
              " 'val_accuracy': [0.09549999982118607,\n",
              "  0.09549999982118607,\n",
              "  0.09594444185495377,\n",
              "  0.09822222590446472,\n",
              "  0.09549999982118607,\n",
              "  0.09549999982118607,\n",
              "  0.1007777750492096,\n",
              "  0.10155555605888367,\n",
              "  0.10066666454076767,\n",
              "  0.10016666352748871],\n",
              " 'val_loss': [2.3027284145355225,\n",
              "  2.3027760982513428,\n",
              "  2.3027217388153076,\n",
              "  2.302633762359619,\n",
              "  2.3028488159179688,\n",
              "  2.3028738498687744,\n",
              "  2.3027713298797607,\n",
              "  2.3025636672973633,\n",
              "  2.3026251792907715,\n",
              "  2.3026974201202393]}"
            ]
          },
          "metadata": {},
          "execution_count": 39
        }
      ]
    },
    {
      "cell_type": "code",
      "source": [
        "# Q3 C - Evaluate performance of the model with appropriate metrics\n",
        "from sklearn.metrics import accuracy_score, precision_score, recall_score, f1_score, confusion_matrix\n",
        "import seaborn as sns\n",
        "\n",
        "# Evaluate the model on the test data\n",
        "test_loss, test_accuracy  = model.evaluate(X_test, y_test, verbose=False)\n",
        "print(f\"Test Loss: {test_loss}\")\n",
        "print(f\"Test Accuracy: {test_accuracy}\")"
      ],
      "metadata": {
        "id": "B8boRXwSRnst",
        "outputId": "3c484a9c-9998-4d3c-f7ac-73b1331080b9",
        "colab": {
          "base_uri": "https://localhost:8080/"
        }
      },
      "id": "B8boRXwSRnst",
      "execution_count": 40,
      "outputs": [
        {
          "output_type": "stream",
          "name": "stdout",
          "text": [
            "Test Loss: 2.3026974201202393\n",
            "Test Accuracy: 0.10016666352748871\n"
          ]
        }
      ]
    },
    {
      "cell_type": "code",
      "source": [
        "# Q3 D - Plot the training loss, validation loss vs number of epochs and training accuracy, validation accuracy vs number of epochs plot and write your observations on the same.\n",
        "plt.figure(figsize=(12, 5))\n",
        "\n",
        "# Loss\n",
        "plt.subplot(1, 2, 1)\n",
        "plt.plot(history.history['loss'], label=\"Train Loss\")\n",
        "plt.plot(history.history['val_loss'], label=\"Validation Loss\")\n",
        "plt.title(\"Loss over Epochs\")\n",
        "plt.xlabel(\"Epochs\")\n",
        "plt.ylabel(\"Loss\")\n",
        "plt.legend()\n",
        "\n",
        "# Accuracy\n",
        "plt.subplot(1, 2, 2)\n",
        "plt.plot(history.history['accuracy'], label=\"Train Accuracy\")\n",
        "plt.plot(history.history['val_accuracy'], label=\"Validation Accuracy\")\n",
        "plt.title(\"Accuracy over Epochs\")\n",
        "plt.xlabel(\"Epochs\")\n",
        "plt.ylabel(\"Accuracy\")\n",
        "plt.legend()\n",
        "\n",
        "plt.tight_layout()\n",
        "plt.show()\n"
      ],
      "metadata": {
        "id": "gEPza_VpVgyM",
        "outputId": "af8ff464-3cfe-4749-dfe8-39b31a07ae16",
        "colab": {
          "base_uri": "https://localhost:8080/",
          "height": 507
        }
      },
      "id": "gEPza_VpVgyM",
      "execution_count": 41,
      "outputs": [
        {
          "output_type": "display_data",
          "data": {
            "text/plain": [
              "<Figure size 1200x500 with 2 Axes>"
            ],
            "image/png": "[encoded data removed]"
          },
          "metadata": {}
        }
      ]
    },
    {
      "cell_type": "markdown",
      "source": [],
      "metadata": {
        "id": "r8GAouT0Rnd-"
      },
      "id": "r8GAouT0Rnd-"
    }
  ],
  "metadata": {
    "kernelspec": {
      "display_name": "anaconda-panel-2023.05-py310",
      "language": "python",
      "name": "conda-env-anaconda-panel-2023.05-py310-py"
    },
    "language_info": {
      "codemirror_mode": {
        "name": "ipython",
        "version": 3
      },
      "file_extension": ".py",
      "mimetype": "text/x-python",
      "name": "python",
      "nbconvert_exporter": "python",
      "pygments_lexer": "ipython3",
      "version": "3.11.5"
    },
    "colab": {
      "provenance": []
    }
  },
  "nbformat": 4,
  "nbformat_minor": 5
}