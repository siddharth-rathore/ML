{
  "cells": [
    {
      "cell_type": "markdown",
      "id": "b302468e-798d-42e9-9cfb-1046d7f666a2",
      "metadata": {
        "id": "b302468e-798d-42e9-9cfb-1046d7f666a2"
      },
      "source": [
        "<center><p float=\"center\">\n",
        "  <img src=\"https://upload.wikimedia.org/wikipedia/commons/e/e9/4_RGB_McCombs_School_Brand_Branded.png\" width=\"300\" height=\"100\"/>\n",
        "  <img src=\"https://mma.prnewswire.com/media/1458111/Great_Learning_Logo.jpg?p=facebook\" width=\"200\" height=\"100\"/>\n",
        "</p></center>\n",
        "\n",
        "<center><font size=10><b>Neural Networks Project</b></font></center>"
      ]
    },
    {
      "cell_type": "markdown",
      "id": "ce37f929-e970-4ee7-8f23-5edb977f574a",
      "metadata": {
        "id": "ce37f929-e970-4ee7-8f23-5edb977f574a"
      },
      "source": [
        "<center><font size=6><b>PART A</b></font></center>"
      ]
    },
    {
      "cell_type": "markdown",
      "id": "39f2c5f8-1466-46fc-b63e-07fa3c2a3a78",
      "metadata": {
        "id": "39f2c5f8-1466-46fc-b63e-07fa3c2a3a78"
      },
      "source": [
        "### **Business Context**"
      ]
    },
    {
      "cell_type": "markdown",
      "id": "2bbc52c6-c085-429c-b8d6-d037b7ded54e",
      "metadata": {
        "id": "2bbc52c6-c085-429c-b8d6-d037b7ded54e"
      },
      "source": [
        "![image.png](attachment:c001ca89-6336-4fed-b897-3becd4914101.png)"
      ]
    },
    {
      "cell_type": "markdown",
      "source": [],
      "metadata": {
        "id": "P85-DvqedQTm"
      },
      "id": "P85-DvqedQTm"
    },
    {
      "cell_type": "markdown",
      "source": [],
      "metadata": {
        "id": "fdTT9_3odQPd"
      },
      "id": "fdTT9_3odQPd"
    },
    {
      "cell_type": "markdown",
      "id": "8a1c5360-23cb-47ab-8775-cb845834b767",
      "metadata": {
        "id": "8a1c5360-23cb-47ab-8775-cb845834b767"
      },
      "source": [
        "### **Objective**"
      ]
    },
    {
      "cell_type": "markdown",
      "id": "35f76f12-8408-4b7b-86d8-f6698adbd9ac",
      "metadata": {
        "id": "35f76f12-8408-4b7b-86d8-f6698adbd9ac"
      },
      "source": [
        "![image.png](attachment:6709ba39-ba45-4abe-9f9e-074db0ed5aa0.png)"
      ]
    },
    {
      "cell_type": "markdown",
      "id": "53b00e65-91c0-4cfa-81e4-d2001f656b6e",
      "metadata": {
        "id": "53b00e65-91c0-4cfa-81e4-d2001f656b6e"
      },
      "source": [
        "### **Data Dictionary**"
      ]
    },
    {
      "cell_type": "markdown",
      "id": "88854221-8def-478f-b1d2-8a0407a7b016",
      "metadata": {
        "id": "88854221-8def-478f-b1d2-8a0407a7b016"
      },
      "source": [
        "![image.png](attachment:ef05c8a1-030d-45e4-8299-98c91147aabd.png)"
      ]
    },
    {
      "cell_type": "markdown",
      "id": "75623f7e-8cba-4da4-89ad-720aae82cadd",
      "metadata": {
        "id": "75623f7e-8cba-4da4-89ad-720aae82cadd"
      },
      "source": [
        "<br><br>"
      ]
    },
    {
      "cell_type": "markdown",
      "id": "a9bf72c3-c605-4ee1-9601-5ffb4fc37cdb",
      "metadata": {
        "id": "a9bf72c3-c605-4ee1-9601-5ffb4fc37cdb"
      },
      "source": [
        "## Import the necessary libraries"
      ]
    },
    {
      "cell_type": "code",
      "execution_count": null,
      "id": "504a6c25-cc67-4aee-aef9-66649168efa9",
      "metadata": {
        "id": "504a6c25-cc67-4aee-aef9-66649168efa9"
      },
      "outputs": [],
      "source": [
        "# Libraries to help with reading and manipulating data\n",
        "import numpy as np\n",
        "import pandas as pd\n",
        "\n",
        "# Libraries to help with data visualization\n",
        "import matplotlib.pyplot as plt\n",
        "import seaborn as sns\n",
        "\n",
        "import tensorflow as tf\n",
        "from tensorflow.keras.models import Sequential\n",
        "from tensorflow.keras.layers import Dense, Dropout\n",
        "from sklearn.model_selection import train_test_split\n",
        "from sklearn import preprocessing\n",
        "from sklearn.preprocessing import StandardScaler, LabelEncoder\n",
        "from tensorflow.keras.utils import to_categorical\n",
        "\n",
        "# Suppressing the warnings.\n",
        "import warnings\n",
        "warnings.filterwarnings(\"ignore\")"
      ]
    },
    {
      "cell_type": "markdown",
      "id": "0f09c06e-2151-4558-b55e-72a22cc6692f",
      "metadata": {
        "id": "0f09c06e-2151-4558-b55e-72a22cc6692f"
      },
      "source": [
        "## Importing the dataset"
      ]
    },
    {
      "cell_type": "code",
      "execution_count": null,
      "id": "8db4e2db-34e3-4a4e-a23f-0050de923184",
      "metadata": {
        "id": "8db4e2db-34e3-4a4e-a23f-0050de923184"
      },
      "outputs": [],
      "source": [
        "data = pd.read_csv('NN Project Data - Signal.csv')"
      ]
    },
    {
      "cell_type": "markdown",
      "id": "da5980d3-eed0-494d-ad3f-69de7496aee7",
      "metadata": {
        "id": "da5980d3-eed0-494d-ad3f-69de7496aee7"
      },
      "source": [
        "<br>"
      ]
    },
    {
      "cell_type": "markdown",
      "id": "ff090677-83bc-4d84-853d-deddf8277f3b",
      "metadata": {
        "id": "ff090677-83bc-4d84-853d-deddf8277f3b"
      },
      "source": [
        "## Data Overview"
      ]
    },
    {
      "cell_type": "markdown",
      "id": "1aa4dac1-88d7-4e24-8e82-024a42b99c4c",
      "metadata": {
        "id": "1aa4dac1-88d7-4e24-8e82-024a42b99c4c"
      },
      "source": [
        "**View the first and last 5 rows of the dataset**"
      ]
    },
    {
      "cell_type": "code",
      "execution_count": null,
      "id": "54e26ea9-e3c4-457c-b8a6-d8f7b8a09990",
      "metadata": {
        "id": "54e26ea9-e3c4-457c-b8a6-d8f7b8a09990"
      },
      "outputs": [],
      "source": [
        "data.head()"
      ]
    },
    {
      "cell_type": "code",
      "execution_count": null,
      "id": "61b23be1-1c28-4275-8915-2fdc0cd35cc0",
      "metadata": {
        "id": "61b23be1-1c28-4275-8915-2fdc0cd35cc0"
      },
      "outputs": [],
      "source": [
        "data.tail()"
      ]
    },
    {
      "cell_type": "markdown",
      "id": "a2ce2f5c-089e-45c7-8ae4-6f48727940ca",
      "metadata": {
        "id": "a2ce2f5c-089e-45c7-8ae4-6f48727940ca"
      },
      "source": [
        "<br>"
      ]
    },
    {
      "cell_type": "markdown",
      "id": "9e8f9eb0-0fbf-4c0f-8d0b-9b2a350b4006",
      "metadata": {
        "id": "9e8f9eb0-0fbf-4c0f-8d0b-9b2a350b4006"
      },
      "source": [
        "**Understand the shape of the dataset**"
      ]
    },
    {
      "cell_type": "code",
      "execution_count": null,
      "id": "ce6872d1-4523-4764-b1f6-c1f2a4d99c3d",
      "metadata": {
        "id": "ce6872d1-4523-4764-b1f6-c1f2a4d99c3d"
      },
      "outputs": [],
      "source": [
        "# checking shape of the data\n",
        "print(\"There are\", data.shape[0], 'rows and', data.shape[1], \"columns.\")"
      ]
    },
    {
      "cell_type": "markdown",
      "id": "ebb10781-e305-4aca-8d9e-e4497194c9c8",
      "metadata": {
        "id": "ebb10781-e305-4aca-8d9e-e4497194c9c8"
      },
      "source": [
        "**Check the data types of the columns for the dataset**"
      ]
    },
    {
      "cell_type": "code",
      "execution_count": null,
      "id": "998fe377-8d8e-4a4d-9679-58374316bfcd",
      "metadata": {
        "id": "998fe377-8d8e-4a4d-9679-58374316bfcd"
      },
      "outputs": [],
      "source": [
        "data.info()"
      ]
    },
    {
      "cell_type": "markdown",
      "id": "5546e3b2-3beb-4798-9661-a40d1bbba98f",
      "metadata": {
        "id": "5546e3b2-3beb-4798-9661-a40d1bbba98f"
      },
      "source": [
        "<br>"
      ]
    },
    {
      "cell_type": "markdown",
      "id": "33df6dd1-85a9-4360-bc32-e2fbbba58184",
      "metadata": {
        "id": "33df6dd1-85a9-4360-bc32-e2fbbba58184"
      },
      "source": [
        "### Check for missing values"
      ]
    },
    {
      "cell_type": "markdown",
      "id": "f4ef177e-0153-4cbc-a533-c4fa9ff34588",
      "metadata": {
        "id": "f4ef177e-0153-4cbc-a533-c4fa9ff34588"
      },
      "source": [
        "**Check the null columns for the dataset**"
      ]
    },
    {
      "cell_type": "code",
      "execution_count": null,
      "id": "f08f2538-f31c-4220-a26d-23ad5fa3cc36",
      "metadata": {
        "id": "f08f2538-f31c-4220-a26d-23ad5fa3cc36"
      },
      "outputs": [],
      "source": [
        "missing_values = data.isnull().sum()\n",
        "missing_percentage = (missing_values / len(data)) * 100\n",
        "pd.DataFrame({'Missing_Values': missing_values, 'Missing_Percentage': missing_percentage})"
      ]
    },
    {
      "cell_type": "markdown",
      "id": "da586dca-0720-4597-b114-f45caf462d7b",
      "metadata": {
        "id": "da586dca-0720-4597-b114-f45caf462d7b"
      },
      "source": [
        "**Check the NA columns for the dataset**"
      ]
    },
    {
      "cell_type": "code",
      "execution_count": null,
      "id": "ae2c8373-e8c4-4105-abc0-5ffa567aac9c",
      "metadata": {
        "id": "ae2c8373-e8c4-4105-abc0-5ffa567aac9c"
      },
      "outputs": [],
      "source": [
        "missing_values = data.isna().sum()\n",
        "missing_percentage = (missing_values / len(data)) * 100\n",
        "pd.DataFrame({'Missing_Values': missing_values, 'Missing_Percentage': missing_percentage})"
      ]
    },
    {
      "cell_type": "markdown",
      "id": "6523f580-ad9d-4e8e-bbfe-69be3146f6b8",
      "metadata": {
        "id": "6523f580-ad9d-4e8e-bbfe-69be3146f6b8"
      },
      "source": [
        "**Check the duplicate data for the dataset**"
      ]
    },
    {
      "cell_type": "code",
      "execution_count": null,
      "id": "760e3014-3b15-4581-b10e-f1d823ef783e",
      "metadata": {
        "id": "760e3014-3b15-4581-b10e-f1d823ef783e"
      },
      "outputs": [],
      "source": [
        "data.duplicated().sum()"
      ]
    },
    {
      "cell_type": "code",
      "execution_count": null,
      "id": "aad7c8c0-c815-487f-b8e5-5d2203bf4a15",
      "metadata": {
        "id": "aad7c8c0-c815-487f-b8e5-5d2203bf4a15"
      },
      "outputs": [],
      "source": [
        "data[data.duplicated()]"
      ]
    },
    {
      "cell_type": "markdown",
      "id": "3c136b43-91c6-4d46-9262-8b431fb0a75e",
      "metadata": {
        "id": "3c136b43-91c6-4d46-9262-8b431fb0a75e"
      },
      "source": [
        "**Check the unique values for each parameter and signal strength**"
      ]
    },
    {
      "cell_type": "code",
      "execution_count": null,
      "id": "bbe9d132-90ac-4058-a13e-27aaf10f57f5",
      "metadata": {
        "id": "bbe9d132-90ac-4058-a13e-27aaf10f57f5"
      },
      "outputs": [],
      "source": [
        "for column in data.columns:\n",
        "    unique_values = data[column].unique()\n",
        "    print(f\"Unique values for {column}: {unique_values}\\n\")"
      ]
    },
    {
      "cell_type": "markdown",
      "id": "7b4a7a4d-5656-4e68-aef5-9558452ae9c9",
      "metadata": {
        "id": "7b4a7a4d-5656-4e68-aef5-9558452ae9c9"
      },
      "source": [
        "**Remove duplicate data from the dataset**"
      ]
    },
    {
      "cell_type": "code",
      "execution_count": null,
      "id": "dfae4f86-73b7-4887-bbee-181599d6a7e6",
      "metadata": {
        "id": "dfae4f86-73b7-4887-bbee-181599d6a7e6"
      },
      "outputs": [],
      "source": [
        "data.drop_duplicates(inplace=True)\n",
        "data.duplicated().sum()"
      ]
    },
    {
      "cell_type": "code",
      "execution_count": null,
      "id": "46d1f9b0-eb17-4ac9-a902-002d394de21d",
      "metadata": {
        "id": "46d1f9b0-eb17-4ac9-a902-002d394de21d"
      },
      "outputs": [],
      "source": [
        "# checking shape of the data\n",
        "print(\"There are\", data.shape[0], 'rows and', data.shape[1], \"columns.\")"
      ]
    },
    {
      "cell_type": "markdown",
      "id": "7721aa04-51cd-481e-852c-56b1f003ddbc",
      "metadata": {
        "id": "7721aa04-51cd-481e-852c-56b1f003ddbc"
      },
      "source": [
        "### Summary\n",
        "* There are 12 columns, consists of 11 parameters and one target variable\n",
        "* There is no missing data.\n",
        "* There were 240 duplicates, which have been removed.\n",
        "* No treatment required for missing data."
      ]
    },
    {
      "cell_type": "markdown",
      "id": "175c6b1c-c570-4bfa-a042-c8677f5540b0",
      "metadata": {
        "id": "175c6b1c-c570-4bfa-a042-c8677f5540b0"
      },
      "source": [
        "<br>"
      ]
    },
    {
      "cell_type": "markdown",
      "id": "938c65c1-3e89-4d64-8f8b-3551c780f9e8",
      "metadata": {
        "id": "938c65c1-3e89-4d64-8f8b-3551c780f9e8"
      },
      "source": [
        "## Data Analysis & Visualization"
      ]
    },
    {
      "cell_type": "markdown",
      "id": "1e5a2880-cd5d-4b01-9969-105331c90da6",
      "metadata": {
        "id": "1e5a2880-cd5d-4b01-9969-105331c90da6"
      },
      "source": [
        "### Target Variable: Signal_Strength"
      ]
    },
    {
      "cell_type": "code",
      "execution_count": null,
      "id": "7fc13ab0-9fec-4198-bc15-0a1cf078aa14",
      "metadata": {
        "id": "7fc13ab0-9fec-4198-bc15-0a1cf078aa14"
      },
      "outputs": [],
      "source": [
        "sns.countplot(x='Signal_Strength', data=data)\n",
        "plt.title('Distribution of Signal_Strength')\n",
        "plt.xlabel('Target')\n",
        "plt.ylabel('Count')\n",
        "plt.show()"
      ]
    },
    {
      "cell_type": "code",
      "execution_count": null,
      "id": "a4a2088f-55d0-4687-8f6e-924670884538",
      "metadata": {
        "id": "a4a2088f-55d0-4687-8f6e-924670884538"
      },
      "outputs": [],
      "source": [
        "sns.boxplot(data, x='Signal_Strength')\n",
        "plt.show()"
      ]
    },
    {
      "cell_type": "markdown",
      "id": "decd8d92-daf9-4fc6-a0e3-7da5b3fcc768",
      "metadata": {
        "id": "decd8d92-daf9-4fc6-a0e3-7da5b3fcc768"
      },
      "source": [
        "**Observations**\n",
        "* There are very few outliers."
      ]
    },
    {
      "cell_type": "code",
      "execution_count": null,
      "id": "85f51439-bc52-425d-a627-d729938184c6",
      "metadata": {
        "id": "85f51439-bc52-425d-a627-d729938184c6"
      },
      "outputs": [],
      "source": [
        "print(data['Signal_Strength'].value_counts())\n",
        "print(data['Signal_Strength'].dtype)"
      ]
    },
    {
      "cell_type": "markdown",
      "id": "01b11a0c-4638-44f1-89a0-62f1ed81257f",
      "metadata": {
        "id": "01b11a0c-4638-44f1-89a0-62f1ed81257f"
      },
      "source": [
        "<br>"
      ]
    },
    {
      "cell_type": "markdown",
      "id": "161b99f6-a6eb-4ca5-ac54-c9e3fa7814e8",
      "metadata": {
        "id": "161b99f6-a6eb-4ca5-ac54-c9e3fa7814e8"
      },
      "source": [
        "#### Correlation Check against Target Variable: Signal_Strength"
      ]
    },
    {
      "cell_type": "code",
      "execution_count": null,
      "id": "cf1de2cd-d2a1-4640-ad09-f938c282d243",
      "metadata": {
        "id": "cf1de2cd-d2a1-4640-ad09-f938c282d243"
      },
      "outputs": [],
      "source": [
        "correlation_matrix = data.corr(numeric_only=True)\n",
        "signal_corr = correlation_matrix['Signal_Strength'].drop('Signal_Strength')\n",
        "print(signal_corr.sort_values(ascending=False))"
      ]
    },
    {
      "cell_type": "code",
      "execution_count": null,
      "id": "3d6f63d2-db70-4c0f-b3a3-def0e3624c40",
      "metadata": {
        "colab": {
          "base_uri": "https://localhost:8080/",
          "height": 216
        },
        "id": "3d6f63d2-db70-4c0f-b3a3-def0e3624c40",
        "outputId": "b2015ad4-d5c8-455e-e0ee-6ee00f9bca3f"
      },
      "outputs": [
        {
          "output_type": "error",
          "ename": "NameError",
          "evalue": "name 'data' is not defined",
          "traceback": [
            "\u001b[0;31m---------------------------------------------------------------------------\u001b[0m",
            "\u001b[0;31mNameError\u001b[0m                                 Traceback (most recent call last)",
            "\u001b[0;32m<ipython-input-7-fb16f4670b85>\u001b[0m in \u001b[0;36m<cell line: 0>\u001b[0;34m()\u001b[0m\n\u001b[1;32m      1\u001b[0m \u001b[0mplt\u001b[0m\u001b[0;34m.\u001b[0m\u001b[0mfigure\u001b[0m\u001b[0;34m(\u001b[0m\u001b[0mfigsize\u001b[0m\u001b[0;34m=\u001b[0m\u001b[0;34m(\u001b[0m\u001b[0;36m10\u001b[0m\u001b[0;34m,\u001b[0m \u001b[0;36m6\u001b[0m\u001b[0;34m)\u001b[0m\u001b[0;34m)\u001b[0m\u001b[0;34m\u001b[0m\u001b[0;34m\u001b[0m\u001b[0m\n\u001b[0;32m----> 2\u001b[0;31m \u001b[0msns\u001b[0m\u001b[0;34m.\u001b[0m\u001b[0mheatmap\u001b[0m\u001b[0;34m(\u001b[0m\u001b[0mdata\u001b[0m\u001b[0;34m.\u001b[0m\u001b[0mcorr\u001b[0m\u001b[0;34m(\u001b[0m\u001b[0mnumeric_only\u001b[0m\u001b[0;34m=\u001b[0m\u001b[0;32mTrue\u001b[0m\u001b[0;34m)\u001b[0m\u001b[0;34m[\u001b[0m\u001b[0;34m[\u001b[0m\u001b[0;34m'Signal_Strength'\u001b[0m\u001b[0;34m]\u001b[0m\u001b[0;34m]\u001b[0m\u001b[0;34m.\u001b[0m\u001b[0msort_values\u001b[0m\u001b[0;34m(\u001b[0m\u001b[0mby\u001b[0m\u001b[0;34m=\u001b[0m\u001b[0;34m'Signal_Strength'\u001b[0m\u001b[0;34m,\u001b[0m \u001b[0mascending\u001b[0m\u001b[0;34m=\u001b[0m\u001b[0;32mFalse\u001b[0m\u001b[0;34m)\u001b[0m\u001b[0;34m,\u001b[0m \u001b[0mannot\u001b[0m\u001b[0;34m=\u001b[0m\u001b[0;32mTrue\u001b[0m\u001b[0;34m,\u001b[0m \u001b[0mcmap\u001b[0m\u001b[0;34m=\u001b[0m\u001b[0;34m'Spectral'\u001b[0m\u001b[0;34m)\u001b[0m\u001b[0;34m\u001b[0m\u001b[0;34m\u001b[0m\u001b[0m\n\u001b[0m\u001b[1;32m      3\u001b[0m \u001b[0mplt\u001b[0m\u001b[0;34m.\u001b[0m\u001b[0mtitle\u001b[0m\u001b[0;34m(\u001b[0m\u001b[0;34m'Correlation of Features with Signal Strength'\u001b[0m\u001b[0;34m)\u001b[0m\u001b[0;34m\u001b[0m\u001b[0;34m\u001b[0m\u001b[0m\n\u001b[1;32m      4\u001b[0m \u001b[0mplt\u001b[0m\u001b[0;34m.\u001b[0m\u001b[0mshow\u001b[0m\u001b[0;34m(\u001b[0m\u001b[0;34m)\u001b[0m\u001b[0;34m\u001b[0m\u001b[0;34m\u001b[0m\u001b[0m\n",
            "\u001b[0;31mNameError\u001b[0m: name 'data' is not defined"
          ]
        },
        {
          "output_type": "display_data",
          "data": {
            "text/plain": [
              "<Figure size 1000x600 with 0 Axes>"
            ]
          },
          "metadata": {}
        }
      ],
      "source": [
        "plt.figure(figsize=(10, 6))\n",
        "sns.heatmap(data.corr(numeric_only=True)[['Signal_Strength']].sort_values(by='Signal_Strength', ascending=False), annot=True, cmap='Spectral')\n",
        "plt.title('Correlation of Features with Signal Strength')\n",
        "plt.show()"
      ]
    },
    {
      "cell_type": "markdown",
      "id": "d61062f1-984b-4b60-8fab-a8a65da58f07",
      "metadata": {
        "id": "d61062f1-984b-4b60-8fab-a8a65da58f07"
      },
      "source": [
        "<br>"
      ]
    },
    {
      "cell_type": "markdown",
      "id": "d6d1c580-bde7-464c-a67a-814d81163b6a",
      "metadata": {
        "id": "d6d1c580-bde7-464c-a67a-814d81163b6a"
      },
      "source": [
        "### Insights:\n",
        "* Maximum signal strength emitted is 5 and 6\n",
        "* Parameter 11 is highest positive correlated with Signal Strength\n",
        "* Parameter 2 is highest negative correlated with Signal Strength"
      ]
    },
    {
      "cell_type": "markdown",
      "id": "796c4c29-5d15-411a-beff-8261f719119e",
      "metadata": {
        "id": "796c4c29-5d15-411a-beff-8261f719119e"
      },
      "source": [
        "<br>"
      ]
    },
    {
      "cell_type": "markdown",
      "id": "4467e029-b090-4c1f-8382-60ff389b1a41",
      "metadata": {
        "id": "4467e029-b090-4c1f-8382-60ff389b1a41"
      },
      "source": [
        "## Model Building"
      ]
    },
    {
      "cell_type": "markdown",
      "id": "ff3b5516-2ddd-48a0-bf36-d87e650bf0f9",
      "metadata": {
        "id": "ff3b5516-2ddd-48a0-bf36-d87e650bf0f9"
      },
      "source": [
        "### Split the data into train and test sets"
      ]
    },
    {
      "cell_type": "code",
      "execution_count": null,
      "id": "2bc54776-67e7-4c6f-8c10-d2f5a54952cb",
      "metadata": {
        "id": "2bc54776-67e7-4c6f-8c10-d2f5a54952cb"
      },
      "outputs": [],
      "source": [
        "X = data.drop([\"Signal_Strength\"], axis=1)\n",
        "y = data[\"Signal_Strength\"]"
      ]
    },
    {
      "cell_type": "code",
      "execution_count": null,
      "id": "24dd0ed0-90d2-4460-b44d-c585d5c2ff15",
      "metadata": {
        "id": "24dd0ed0-90d2-4460-b44d-c585d5c2ff15"
      },
      "outputs": [],
      "source": [
        "X_train, X_test, y_train, y_test = train_test_split(X, y, test_size=0.3, random_state=42)"
      ]
    },
    {
      "cell_type": "code",
      "execution_count": null,
      "id": "1ac5242a-29aa-41ba-9cd8-9040aa95e629",
      "metadata": {
        "id": "1ac5242a-29aa-41ba-9cd8-9040aa95e629"
      },
      "outputs": [],
      "source": [
        "print(X_train.shape)\n",
        "print(X_test.shape)\n",
        "print(y_train.shape)\n",
        "print(y_test.shape)"
      ]
    },
    {
      "cell_type": "code",
      "execution_count": null,
      "id": "95011f57-90a2-4cd5-af31-bb70de45a258",
      "metadata": {
        "id": "95011f57-90a2-4cd5-af31-bb70de45a258"
      },
      "outputs": [],
      "source": [
        "# Normalize the data\n",
        "scaler = StandardScaler()\n",
        "X_train_scaled = scaler.fit_transform(X_train)\n",
        "X_test_scaled = scaler.transform(X_test)"
      ]
    },
    {
      "cell_type": "code",
      "execution_count": null,
      "id": "1d88d374-2dd3-458e-ab35-79178bd1a247",
      "metadata": {
        "id": "1d88d374-2dd3-458e-ab35-79178bd1a247"
      },
      "outputs": [],
      "source": [
        "# Encoding & Label Transformation\n",
        "y_train_encoded = to_categorical(y_train)\n",
        "y_test_encoded = to_categorical(y_test)"
      ]
    },
    {
      "cell_type": "markdown",
      "id": "16cdea0e-d365-46a6-bb91-ba5de5eff1ed",
      "metadata": {
        "id": "16cdea0e-d365-46a6-bb91-ba5de5eff1ed"
      },
      "source": [
        "<br>"
      ]
    },
    {
      "cell_type": "markdown",
      "id": "d55cc000-3bb7-4a07-90e4-6d3a7a9fa3f7",
      "metadata": {
        "id": "d55cc000-3bb7-4a07-90e4-6d3a7a9fa3f7"
      },
      "source": [
        "## 1. Base Model (One Layer)"
      ]
    },
    {
      "cell_type": "markdown",
      "id": "02b29cbd-3810-47f3-8e3d-47aced74e572",
      "metadata": {
        "id": "02b29cbd-3810-47f3-8e3d-47aced74e572"
      },
      "source": [
        "### Building the model"
      ]
    },
    {
      "cell_type": "code",
      "execution_count": null,
      "id": "5aa4c4d5-7752-4256-ace0-da21c315e572",
      "metadata": {
        "id": "5aa4c4d5-7752-4256-ace0-da21c315e572"
      },
      "outputs": [],
      "source": [
        "model = Sequential([\n",
        "    Dense(64, activation='relu', input_shape=(X_train_scaled.shape[1],)),\n",
        "    Dropout(0.3),\n",
        "    Dense(32, activation='relu'),\n",
        "    Dropout(0.2),\n",
        "    Dense(y_train_encoded.shape[1], activation='softmax')  # Output layer for multi-class\n",
        "])"
      ]
    },
    {
      "cell_type": "markdown",
      "id": "1f405de3-d082-4c6b-8a97-72f27c5954f3",
      "metadata": {
        "id": "1f405de3-d082-4c6b-8a97-72f27c5954f3"
      },
      "source": [
        "<br>"
      ]
    },
    {
      "cell_type": "markdown",
      "id": "910c12f4-584a-4a61-8643-05dc6c74ddc0",
      "metadata": {
        "id": "910c12f4-584a-4a61-8643-05dc6c74ddc0"
      },
      "source": [
        "### Compile the model"
      ]
    },
    {
      "cell_type": "code",
      "execution_count": null,
      "id": "ecb234cf-2cd6-4baf-b56f-3dfb87b188cf",
      "metadata": {
        "id": "ecb234cf-2cd6-4baf-b56f-3dfb87b188cf"
      },
      "outputs": [],
      "source": [
        "model.compile(optimizer='adam',\n",
        "                 loss='categorical_crossentropy',\n",
        "                 metrics=['accuracy'])"
      ]
    },
    {
      "cell_type": "code",
      "execution_count": null,
      "id": "58457334-7351-48a0-93d4-cf74b38fde1a",
      "metadata": {
        "id": "58457334-7351-48a0-93d4-cf74b38fde1a"
      },
      "outputs": [],
      "source": [
        "model.summary()"
      ]
    },
    {
      "cell_type": "markdown",
      "id": "dc612db8-64d0-4b7a-a85d-dcf69e02905a",
      "metadata": {
        "id": "dc612db8-64d0-4b7a-a85d-dcf69e02905a"
      },
      "source": [
        "<br>"
      ]
    },
    {
      "cell_type": "markdown",
      "id": "513a1872-163b-430d-8e12-a8c33e277c53",
      "metadata": {
        "id": "513a1872-163b-430d-8e12-a8c33e277c53"
      },
      "source": [
        "### Fit the model"
      ]
    },
    {
      "cell_type": "code",
      "execution_count": null,
      "id": "7caf9c79-120c-4667-a04f-377d4f6adbf5",
      "metadata": {
        "id": "7caf9c79-120c-4667-a04f-377d4f6adbf5"
      },
      "outputs": [],
      "source": [
        "history = model.fit(X_train_scaled, y_train_encoded, epochs=50, batch_size=X_train_scaled.shape[0], validation_data=(X_test_scaled, y_test_encoded))"
      ]
    },
    {
      "cell_type": "markdown",
      "id": "0a6e78e1-0f54-4473-bd53-6c80c958d59f",
      "metadata": {
        "id": "0a6e78e1-0f54-4473-bd53-6c80c958d59f"
      },
      "source": [
        "<br>"
      ]
    },
    {
      "cell_type": "markdown",
      "id": "09c90f61-842c-46a4-92a5-b4a3a7110bb6",
      "metadata": {
        "id": "09c90f61-842c-46a4-92a5-b4a3a7110bb6"
      },
      "source": [
        "### Plot Utility"
      ]
    },
    {
      "cell_type": "code",
      "execution_count": null,
      "id": "3c600729-44d3-4f5d-a745-ae2c1ea4e90b",
      "metadata": {
        "id": "3c600729-44d3-4f5d-a745-ae2c1ea4e90b"
      },
      "outputs": [],
      "source": [
        "def plot_metrics(history, title_suffix):\n",
        "    plt.figure(figsize=(12, 5))\n",
        "\n",
        "    # Loss Plot\n",
        "    plt.subplot(1, 2, 1)\n",
        "    plt.plot(history.history['loss'], label='Train Loss')\n",
        "    plt.plot(history.history['val_loss'], label='Validation Loss')\n",
        "    plt.title(f'Training vs Validation Loss - {title_suffix}')\n",
        "    plt.xlabel('Epochs')\n",
        "    plt.ylabel('Loss')\n",
        "    plt.legend()\n",
        "\n",
        "    # Accuracy Plot\n",
        "    plt.subplot(1, 2, 2)\n",
        "    plt.plot(history.history['accuracy'], label='Train Accuracy')\n",
        "    plt.plot(history.history['val_accuracy'], label='Validation Accuracy')\n",
        "    plt.title(f'Training vs Validation Accuracy - {title_suffix}')\n",
        "    plt.xlabel('Epochs')\n",
        "    plt.ylabel('Accuracy')\n",
        "    plt.legend()\n",
        "\n",
        "    plt.tight_layout()\n",
        "    plt.show()"
      ]
    },
    {
      "cell_type": "markdown",
      "id": "9b820d7b-1980-45b3-b557-b4810269e609",
      "metadata": {
        "id": "9b820d7b-1980-45b3-b557-b4810269e609"
      },
      "source": [
        "<br>"
      ]
    },
    {
      "cell_type": "markdown",
      "id": "03307ffa-53e1-4ee7-a9e1-13d2e6801e84",
      "metadata": {
        "id": "03307ffa-53e1-4ee7-a9e1-13d2e6801e84"
      },
      "source": [
        "### Training Loss and Validation Loss"
      ]
    },
    {
      "cell_type": "code",
      "execution_count": null,
      "id": "43123c8e-dfcf-4a27-bdbe-7b0b67a4835e",
      "metadata": {
        "id": "43123c8e-dfcf-4a27-bdbe-7b0b67a4835e"
      },
      "outputs": [],
      "source": [
        "plot_metrics(history, 'Base Model (Initial)')"
      ]
    },
    {
      "cell_type": "markdown",
      "id": "3d69c4b2-9767-4f45-b572-4741130ba4a2",
      "metadata": {
        "id": "3d69c4b2-9767-4f45-b572-4741130ba4a2"
      },
      "source": [
        "<br>"
      ]
    },
    {
      "cell_type": "code",
      "execution_count": null,
      "id": "75f0ac8f-1b19-48ea-b639-68b145695e6a",
      "metadata": {
        "id": "75f0ac8f-1b19-48ea-b639-68b145695e6a"
      },
      "outputs": [],
      "source": [
        "metric_data = {\n",
        "    \"Factors\": [\"Training Loss\", \"Validation Loss\", \"Training Accuracy\", \"Validation Accuracy\", \"Convergance\", \"Training Stability\", \"Generalization\"],\n",
        "}"
      ]
    },
    {
      "cell_type": "code",
      "execution_count": null,
      "id": "98304c1a-d085-4831-8266-43a6d2df36d2",
      "metadata": {
        "id": "98304c1a-d085-4831-8266-43a6d2df36d2"
      },
      "outputs": [],
      "source": [
        "metric_data[\"Base Model\"] = [1.35, 1.25, \"50%\", \"55%\", \"Slow\", \"Noise\", \"Not optimal\"]"
      ]
    },
    {
      "cell_type": "markdown",
      "id": "9fb498ca-955c-4b8b-9d6f-2244fad79109",
      "metadata": {
        "id": "9fb498ca-955c-4b8b-9d6f-2244fad79109"
      },
      "source": [
        "<br>"
      ]
    },
    {
      "cell_type": "markdown",
      "id": "d0ea6485-8889-4cc0-9be0-fca7714ab604",
      "metadata": {
        "id": "d0ea6485-8889-4cc0-9be0-fca7714ab604"
      },
      "source": [
        "## 2. Improved Model (Multiple Hidden Layer, Weight Initializers)"
      ]
    },
    {
      "cell_type": "code",
      "execution_count": null,
      "id": "3d6d0c84-9a1b-40e9-8c04-315571792d0f",
      "metadata": {
        "id": "3d6d0c84-9a1b-40e9-8c04-315571792d0f"
      },
      "outputs": [],
      "source": [
        "model_improved = Sequential([\n",
        "    Dense(128, activation='relu', input_shape=(X_train_scaled.shape[1],)),\n",
        "    Dropout(0.4),\n",
        "    Dense(64, activation='relu', kernel_initializer='he_uniform'),\n",
        "    Dropout(0.3),\n",
        "    Dense(32, activation='relu', kernel_initializer='he_uniform'),\n",
        "    Dense(y_train_encoded.shape[1], activation='softmax')\n",
        "])"
      ]
    },
    {
      "cell_type": "code",
      "execution_count": null,
      "id": "337bccc5-c9df-450a-8949-8429403b74f0",
      "metadata": {
        "id": "337bccc5-c9df-450a-8949-8429403b74f0"
      },
      "outputs": [],
      "source": [
        "model_improved.compile(optimizer='adam',\n",
        "                 loss='categorical_crossentropy',\n",
        "                 metrics=['accuracy'])"
      ]
    },
    {
      "cell_type": "code",
      "execution_count": null,
      "id": "4a828c9e-b9fe-4096-9a75-ad6e70477a5f",
      "metadata": {
        "id": "4a828c9e-b9fe-4096-9a75-ad6e70477a5f"
      },
      "outputs": [],
      "source": [
        "model_improved.summary()"
      ]
    },
    {
      "cell_type": "code",
      "execution_count": null,
      "id": "ccf8e2a9-e3c7-48f1-89e4-a4193268cb41",
      "metadata": {
        "id": "ccf8e2a9-e3c7-48f1-89e4-a4193268cb41"
      },
      "outputs": [],
      "source": [
        "history_improved = model_improved.fit(X_train_scaled, y_train_encoded, epochs=50, batch_size=X_train_scaled.shape[0], validation_data=(X_test_scaled, y_test_encoded))"
      ]
    },
    {
      "cell_type": "code",
      "execution_count": null,
      "id": "4566e84c-f4cc-47cd-bbff-60d0f058fb37",
      "metadata": {
        "id": "4566e84c-f4cc-47cd-bbff-60d0f058fb37"
      },
      "outputs": [],
      "source": [
        "plot_metrics(history_improved, 'Improved Model')"
      ]
    },
    {
      "cell_type": "code",
      "execution_count": null,
      "id": "71c8d426-a6cb-4955-b4ff-02255809134a",
      "metadata": {
        "id": "71c8d426-a6cb-4955-b4ff-02255809134a"
      },
      "outputs": [],
      "source": [
        "metric_data[\"Improved Model\"] = [1.15, 1.05, \"60%\", \"65%\", \"Faster\", \"Stable\", \"Excellent\"]"
      ]
    },
    {
      "cell_type": "markdown",
      "id": "7fbafcf2-e5d1-4fc9-8ca5-860f53f85094",
      "metadata": {
        "id": "7fbafcf2-e5d1-4fc9-8ca5-860f53f85094"
      },
      "source": [
        "## Comparisions:\n",
        "1.\n",
        "\n",
        "\n",
        "\n"
      ]
    },
    {
      "cell_type": "code",
      "execution_count": null,
      "id": "7eef2e14-d44d-45ab-8d87-3a177493b1f1",
      "metadata": {
        "id": "7eef2e14-d44d-45ab-8d87-3a177493b1f1"
      },
      "outputs": [],
      "source": [
        "metric_df = pd.DataFrame(metric_data)\n",
        "print(metric_df)"
      ]
    },
    {
      "cell_type": "markdown",
      "id": "9f8caf4f-9565-4cbc-b604-d74188c1124c",
      "metadata": {
        "id": "9f8caf4f-9565-4cbc-b604-d74188c1124c"
      },
      "source": [
        "<center><font size=6><b>PART B</b></font></center>"
      ]
    },
    {
      "cell_type": "code",
      "execution_count": 28,
      "id": "7e1979d7-0aca-4964-b229-e762429f9100",
      "metadata": {
        "id": "7e1979d7-0aca-4964-b229-e762429f9100"
      },
      "outputs": [],
      "source": [
        "import h5py\n",
        "import numpy as np\n",
        "from sklearn.model_selection import train_test_split"
      ]
    },
    {
      "cell_type": "code",
      "source": [
        "# Q1 A - Read the .h5 file and assign to a variable\n",
        "hf = h5py.File('/content/drive/MyDrive/Colab Notebooks/Autonomous_Vehicles_SVHN_single_grey1.h5', 'r')"
      ],
      "metadata": {
        "id": "GWzqQ1WgZGxU"
      },
      "id": "GWzqQ1WgZGxU",
      "execution_count": 29,
      "outputs": []
    },
    {
      "cell_type": "code",
      "source": [
        "# Q1 B - Print all the keys from the .h5 file\n",
        "print(\"Keys:\", list(hf.keys()))"
      ],
      "metadata": {
        "id": "m2oNmwnK19ob",
        "outputId": "a91f609a-cbcf-4a20-9843-1723c125dcd6",
        "colab": {
          "base_uri": "https://localhost:8080/"
        }
      },
      "id": "m2oNmwnK19ob",
      "execution_count": 30,
      "outputs": [
        {
          "output_type": "stream",
          "name": "stdout",
          "text": [
            "Keys: ['X_test', 'X_train', 'X_val', 'y_test', 'y_train', 'y_val']\n"
          ]
        }
      ]
    },
    {
      "cell_type": "code",
      "source": [
        "# Q1 C: Split data into X_train, X_test, Y_train, Y_test\n",
        "X_train = np.array(hf['X_train'])\n",
        "X_test = np.array(hf['X_test'])\n",
        "X_val = np.array(hf['X_val'])\n",
        "y_train = np.array(hf['y_train'])\n",
        "y_test = np.array(hf['y_test'])\n",
        "y_val = np.array(hf['y_val'])\n",
        "\n",
        "hf.close()"
      ],
      "metadata": {
        "id": "837Qy8OYQWV0"
      },
      "id": "837Qy8OYQWV0",
      "execution_count": 31,
      "outputs": []
    },
    {
      "cell_type": "code",
      "source": [
        "# Q2 A - Print shape of all the 4 data split into x, y, train, test to verify if x & y is in sync\n",
        "print(\"X_train shape:\", X_train.shape)\n",
        "print(\"X_test shape:\", X_test.shape)\n",
        "print(\"X_val shape:\", X_val.shape)\n",
        "print(\"y_train shape:\", y_train.shape)\n",
        "print(\"y_test shape:\", y_test.shape)\n",
        "print(\"y_val shape:\", y_val.shape)"
      ],
      "metadata": {
        "id": "GVSLJ7YvURLF",
        "outputId": "fe3a58e8-9d0e-453a-9ba7-d042b90a2390",
        "colab": {
          "base_uri": "https://localhost:8080/"
        }
      },
      "id": "GVSLJ7YvURLF",
      "execution_count": 32,
      "outputs": [
        {
          "output_type": "stream",
          "name": "stdout",
          "text": [
            "X_train shape: (42000, 32, 32)\n",
            "X_test shape: (18000, 32, 32)\n",
            "X_val shape: (60000, 32, 32)\n",
            "y_train shape: (42000,)\n",
            "y_test shape: (18000,)\n",
            "y_val shape: (60000,)\n"
          ]
        }
      ]
    },
    {
      "cell_type": "code",
      "source": [
        "# Q2 B - Visualise first 10 images in train data and print its corresponding labels.\n",
        "import matplotlib.pyplot as plt\n",
        "\n",
        "plt.figure(figsize=(10, 1))\n",
        "for i in range(10):\n",
        "    plt.subplot(1, 10, i + 1)\n",
        "    plt.imshow(X_train[i], cmap='gray')\n",
        "    plt.axis('off')\n",
        "    plt.title(int(y_train[i]))\n",
        "plt.show()"
      ],
      "metadata": {
        "id": "gQpPemitVROx",
        "outputId": "7bbe505a-96de-4fab-9f12-72001750e2b5",
        "colab": {
          "base_uri": "https://localhost:8080/",
          "height": 125
        }
      },
      "id": "gQpPemitVROx",
      "execution_count": 38,
      "outputs": [
        {
          "output_type": "display_data",
          "data": {
            "text/plain": [
              "<Figure size 1000x100 with 10 Axes>"
            ],
            "image/png": "[encoded data removed]"
          },
          "metadata": {}
        }
      ]
    },
    {
      "cell_type": "code",
      "source": [
        "# Q2 C - Reshape all the images with appropriate shape update the data in same variable.\n",
        "X_train = X_train.reshape(X_train.shape[0], -1)\n",
        "X_test = X_test.reshape(X_test.shape[0], -1)\n",
        "X_val = X_val.reshape(X_val.shape[0], -1)"
      ],
      "metadata": {
        "id": "kLQKzErbVLjI"
      },
      "id": "kLQKzErbVLjI",
      "execution_count": 22,
      "outputs": []
    },
    {
      "cell_type": "markdown",
      "source": [],
      "metadata": {
        "id": "urRCJpsSZGZN"
      },
      "id": "urRCJpsSZGZN"
    },
    {
      "cell_type": "code",
      "source": [
        "# Q2 D - Normalize the images i.e. Normalise the pixel values\n",
        "X_train = X_train / 255.0\n",
        "X_test = X_test / 255.0\n",
        "X_val = X_val / 255.0"
      ],
      "metadata": {
        "id": "Wz9NChZnV15L"
      },
      "id": "Wz9NChZnV15L",
      "execution_count": null,
      "outputs": []
    },
    {
      "cell_type": "code",
      "source": [
        "# Q2 E - Transform Labels into format acceptable by Neural Network\n",
        "from tensorflow.keras.utils import to_categorical\n",
        "\n",
        "y_train = to_categorical(y_train, num_classes=10)\n",
        "y_test = to_categorical(y_test, num_classes=10)"
      ],
      "metadata": {
        "id": "yKG3CdaXWLrR"
      },
      "id": "yKG3CdaXWLrR",
      "execution_count": null,
      "outputs": []
    },
    {
      "cell_type": "code",
      "source": [
        "# Q2 F - Print total Number of classes in the Dataset\n",
        "print(\"Total number of classes:\", y_train.shape[1])"
      ],
      "metadata": {
        "id": "MEZccsrjWciK",
        "outputId": "3fde5b5b-3b9d-4f53-c0b7-e5e7ddbe0a24",
        "colab": {
          "base_uri": "https://localhost:8080/"
        }
      },
      "id": "MEZccsrjWciK",
      "execution_count": null,
      "outputs": [
        {
          "output_type": "stream",
          "name": "stdout",
          "text": [
            "Total number of classes: 10\n"
          ]
        }
      ]
    }
  ],
  "metadata": {
    "kernelspec": {
      "display_name": "anaconda-panel-2023.05-py310",
      "language": "python",
      "name": "conda-env-anaconda-panel-2023.05-py310-py"
    },
    "language_info": {
      "codemirror_mode": {
        "name": "ipython",
        "version": 3
      },
      "file_extension": ".py",
      "mimetype": "text/x-python",
      "name": "python",
      "nbconvert_exporter": "python",
      "pygments_lexer": "ipython3",
      "version": "3.11.5"
    },
    "colab": {
      "provenance": []
    }
  },
  "nbformat": 4,
  "nbformat_minor": 5
}